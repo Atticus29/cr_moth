{
 "cells": [
  {
   "cell_type": "code",
   "execution_count": 1,
   "id": "121f1cb1-a22b-4df0-81fc-978f994c9cb6",
   "metadata": {},
   "outputs": [
    {
     "ename": "SyntaxError",
     "evalue": "invalid syntax (395044418.py, line 1)",
     "output_type": "error",
     "traceback": [
      "  \u001b[36mCell\u001b[39m\u001b[36m \u001b[39m\u001b[32mIn[1]\u001b[39m\u001b[32m, line 1\u001b[39m\n\u001b[31m    \u001b[39m\u001b[31mpoetry run ami-dataset --help\u001b[39m\n           ^\n\u001b[31mSyntaxError\u001b[39m\u001b[31m:\u001b[39m invalid syntax\n"
     ]
    }
   ],
   "source": [
    "poetry run ami-dataset --help"
   ]
  },
  {
   "cell_type": "code",
   "execution_count": 2,
   "id": "9336181d-d329-4055-8e5c-0a40ed83a412",
   "metadata": {},
   "outputs": [
    {
     "name": "stdout",
     "output_type": "stream",
     "text": [
      "Collecting poetry\n",
      "  Using cached poetry-2.1.1-py3-none-any.whl.metadata (7.1 kB)\n",
      "Collecting build<2.0.0,>=1.2.1 (from poetry)\n",
      "  Using cached build-1.2.2.post1-py3-none-any.whl.metadata (6.5 kB)\n",
      "Collecting cachecontrol<0.15.0,>=0.14.0 (from cachecontrol[filecache]<0.15.0,>=0.14.0->poetry)\n",
      "  Using cached cachecontrol-0.14.2-py3-none-any.whl.metadata (3.1 kB)\n",
      "Collecting cleo<3.0.0,>=2.1.0 (from poetry)\n",
      "  Using cached cleo-2.1.0-py3-none-any.whl.metadata (12 kB)\n",
      "Collecting dulwich<0.23.0,>=0.22.6 (from poetry)\n",
      "  Downloading dulwich-0.22.8-cp312-cp312-macosx_11_0_arm64.whl.metadata (4.9 kB)\n",
      "Requirement already satisfied: fastjsonschema<3.0.0,>=2.18.0 in /Users/markfisher/miniconda3/lib/python3.12/site-packages (from poetry) (2.21.1)\n",
      "Collecting findpython<0.7.0,>=0.6.2 (from poetry)\n",
      "  Using cached findpython-0.6.3-py3-none-any.whl.metadata (5.3 kB)\n",
      "Collecting installer<0.8.0,>=0.7.0 (from poetry)\n",
      "  Using cached installer-0.7.0-py3-none-any.whl.metadata (936 bytes)\n",
      "Collecting keyring<26.0.0,>=25.1.0 (from poetry)\n",
      "  Using cached keyring-25.6.0-py3-none-any.whl.metadata (20 kB)\n",
      "Requirement already satisfied: packaging>=24.0 in /Users/markfisher/miniconda3/lib/python3.12/site-packages (from poetry) (24.1)\n",
      "Collecting pbs-installer<2026.0.0,>=2025.1.6 (from pbs-installer[download,install]<2026.0.0,>=2025.1.6->poetry)\n",
      "  Downloading pbs_installer-2025.3.17-py3-none-any.whl.metadata (991 bytes)\n",
      "Collecting pkginfo<2.0,>=1.12 (from poetry)\n",
      "  Using cached pkginfo-1.12.1.2-py3-none-any.whl.metadata (13 kB)\n",
      "Requirement already satisfied: platformdirs<5,>=3.0.0 in /Users/markfisher/miniconda3/lib/python3.12/site-packages (from poetry) (3.10.0)\n",
      "Collecting poetry-core==2.1.1 (from poetry)\n",
      "  Using cached poetry_core-2.1.1-py3-none-any.whl.metadata (3.5 kB)\n",
      "Collecting pyproject-hooks<2.0.0,>=1.0.0 (from poetry)\n",
      "  Using cached pyproject_hooks-1.2.0-py3-none-any.whl.metadata (1.3 kB)\n",
      "Requirement already satisfied: requests<3.0,>=2.26 in /Users/markfisher/miniconda3/lib/python3.12/site-packages (from poetry) (2.32.3)\n",
      "Collecting requests-toolbelt<2.0.0,>=1.0.0 (from poetry)\n",
      "  Using cached requests_toolbelt-1.0.0-py2.py3-none-any.whl.metadata (14 kB)\n",
      "Collecting shellingham<2.0,>=1.5 (from poetry)\n",
      "  Using cached shellingham-1.5.4-py2.py3-none-any.whl.metadata (3.5 kB)\n",
      "Collecting tomlkit<1.0.0,>=0.11.4 (from poetry)\n",
      "  Using cached tomlkit-0.13.2-py3-none-any.whl.metadata (2.7 kB)\n",
      "Collecting trove-classifiers>=2022.5.19 (from poetry)\n",
      "  Downloading trove_classifiers-2025.3.19.19-py3-none-any.whl.metadata (2.3 kB)\n",
      "Collecting virtualenv<21.0.0,>=20.26.6 (from poetry)\n",
      "  Using cached virtualenv-20.29.3-py3-none-any.whl.metadata (4.5 kB)\n",
      "Collecting xattr<2.0.0,>=1.0.0 (from poetry)\n",
      "  Downloading xattr-1.1.4-cp312-cp312-macosx_11_0_arm64.whl.metadata (3.8 kB)\n",
      "Collecting msgpack<2.0.0,>=0.5.2 (from cachecontrol<0.15.0,>=0.14.0->cachecontrol[filecache]<0.15.0,>=0.14.0->poetry)\n",
      "  Downloading msgpack-1.1.0-cp312-cp312-macosx_11_0_arm64.whl.metadata (8.4 kB)\n",
      "Collecting filelock>=3.8.0 (from cachecontrol[filecache]<0.15.0,>=0.14.0->poetry)\n",
      "  Using cached filelock-3.18.0-py3-none-any.whl.metadata (2.9 kB)\n",
      "Collecting crashtest<0.5.0,>=0.4.1 (from cleo<3.0.0,>=2.1.0->poetry)\n",
      "  Using cached crashtest-0.4.1-py3-none-any.whl.metadata (1.1 kB)\n",
      "Collecting rapidfuzz<4.0.0,>=3.0.0 (from cleo<3.0.0,>=2.1.0->poetry)\n",
      "  Downloading rapidfuzz-3.12.2-cp312-cp312-macosx_11_0_arm64.whl.metadata (12 kB)\n",
      "Requirement already satisfied: urllib3>=1.25 in /Users/markfisher/miniconda3/lib/python3.12/site-packages (from dulwich<0.23.0,>=0.22.6->poetry) (2.2.3)\n",
      "Collecting jaraco.classes (from keyring<26.0.0,>=25.1.0->poetry)\n",
      "  Using cached jaraco.classes-3.4.0-py3-none-any.whl.metadata (2.6 kB)\n",
      "Collecting jaraco.functools (from keyring<26.0.0,>=25.1.0->poetry)\n",
      "  Using cached jaraco.functools-4.1.0-py3-none-any.whl.metadata (2.9 kB)\n",
      "Collecting jaraco.context (from keyring<26.0.0,>=25.1.0->poetry)\n",
      "  Using cached jaraco.context-6.0.1-py3-none-any.whl.metadata (4.1 kB)\n",
      "Requirement already satisfied: httpx<1,>=0.27.0 in /Users/markfisher/miniconda3/lib/python3.12/site-packages (from pbs-installer[download,install]<2026.0.0,>=2025.1.6->poetry) (0.28.1)\n",
      "Requirement already satisfied: zstandard>=0.21.0 in /Users/markfisher/miniconda3/lib/python3.12/site-packages (from pbs-installer[download,install]<2026.0.0,>=2025.1.6->poetry) (0.23.0)\n",
      "Requirement already satisfied: charset-normalizer<4,>=2 in /Users/markfisher/miniconda3/lib/python3.12/site-packages (from requests<3.0,>=2.26->poetry) (3.3.2)\n",
      "Requirement already satisfied: idna<4,>=2.5 in /Users/markfisher/miniconda3/lib/python3.12/site-packages (from requests<3.0,>=2.26->poetry) (3.7)\n",
      "Requirement already satisfied: certifi>=2017.4.17 in /Users/markfisher/miniconda3/lib/python3.12/site-packages (from requests<3.0,>=2.26->poetry) (2024.8.30)\n",
      "Collecting distlib<1,>=0.3.7 (from virtualenv<21.0.0,>=20.26.6->poetry)\n",
      "  Using cached distlib-0.3.9-py2.py3-none-any.whl.metadata (5.2 kB)\n",
      "Requirement already satisfied: cffi>=1.16.0 in /Users/markfisher/miniconda3/lib/python3.12/site-packages (from xattr<2.0.0,>=1.0.0->poetry) (1.17.1)\n",
      "Requirement already satisfied: pycparser in /Users/markfisher/miniconda3/lib/python3.12/site-packages (from cffi>=1.16.0->xattr<2.0.0,>=1.0.0->poetry) (2.21)\n",
      "Requirement already satisfied: anyio in /Users/markfisher/miniconda3/lib/python3.12/site-packages (from httpx<1,>=0.27.0->pbs-installer[download,install]<2026.0.0,>=2025.1.6->poetry) (4.8.0)\n",
      "Requirement already satisfied: httpcore==1.* in /Users/markfisher/miniconda3/lib/python3.12/site-packages (from httpx<1,>=0.27.0->pbs-installer[download,install]<2026.0.0,>=2025.1.6->poetry) (1.0.7)\n",
      "Requirement already satisfied: h11<0.15,>=0.13 in /Users/markfisher/miniconda3/lib/python3.12/site-packages (from httpcore==1.*->httpx<1,>=0.27.0->pbs-installer[download,install]<2026.0.0,>=2025.1.6->poetry) (0.14.0)\n",
      "Collecting more-itertools (from jaraco.classes->keyring<26.0.0,>=25.1.0->poetry)\n",
      "  Using cached more_itertools-10.6.0-py3-none-any.whl.metadata (37 kB)\n",
      "Requirement already satisfied: sniffio>=1.1 in /Users/markfisher/miniconda3/lib/python3.12/site-packages (from anyio->httpx<1,>=0.27.0->pbs-installer[download,install]<2026.0.0,>=2025.1.6->poetry) (1.3.1)\n",
      "Requirement already satisfied: typing_extensions>=4.5 in /Users/markfisher/miniconda3/lib/python3.12/site-packages (from anyio->httpx<1,>=0.27.0->pbs-installer[download,install]<2026.0.0,>=2025.1.6->poetry) (4.12.2)\n",
      "Using cached poetry-2.1.1-py3-none-any.whl (277 kB)\n",
      "Using cached poetry_core-2.1.1-py3-none-any.whl (331 kB)\n",
      "Using cached build-1.2.2.post1-py3-none-any.whl (22 kB)\n",
      "Using cached cachecontrol-0.14.2-py3-none-any.whl (21 kB)\n",
      "Using cached cleo-2.1.0-py3-none-any.whl (78 kB)\n",
      "Downloading dulwich-0.22.8-cp312-cp312-macosx_11_0_arm64.whl (915 kB)\n",
      "\u001b[2K   \u001b[90m━━━━━━━━━━━━━━━━━━━━━━━━━━━━━━━━━━━━━━━━\u001b[0m \u001b[32m915.7/915.7 kB\u001b[0m \u001b[31m17.6 MB/s\u001b[0m eta \u001b[36m0:00:00\u001b[0m\n",
      "\u001b[?25hUsing cached findpython-0.6.3-py3-none-any.whl (20 kB)\n",
      "Using cached installer-0.7.0-py3-none-any.whl (453 kB)\n",
      "Using cached keyring-25.6.0-py3-none-any.whl (39 kB)\n",
      "Downloading pbs_installer-2025.3.17-py3-none-any.whl (53 kB)\n",
      "Using cached pkginfo-1.12.1.2-py3-none-any.whl (32 kB)\n",
      "Using cached pyproject_hooks-1.2.0-py3-none-any.whl (10 kB)\n",
      "Using cached requests_toolbelt-1.0.0-py2.py3-none-any.whl (54 kB)\n",
      "Using cached shellingham-1.5.4-py2.py3-none-any.whl (9.8 kB)\n",
      "Using cached tomlkit-0.13.2-py3-none-any.whl (37 kB)\n",
      "Downloading trove_classifiers-2025.3.19.19-py3-none-any.whl (13 kB)\n",
      "Using cached virtualenv-20.29.3-py3-none-any.whl (4.3 MB)\n",
      "Downloading xattr-1.1.4-cp312-cp312-macosx_11_0_arm64.whl (19 kB)\n",
      "Using cached crashtest-0.4.1-py3-none-any.whl (7.6 kB)\n",
      "Using cached distlib-0.3.9-py2.py3-none-any.whl (468 kB)\n",
      "Using cached filelock-3.18.0-py3-none-any.whl (16 kB)\n",
      "Downloading msgpack-1.1.0-cp312-cp312-macosx_11_0_arm64.whl (82 kB)\n",
      "Downloading rapidfuzz-3.12.2-cp312-cp312-macosx_11_0_arm64.whl (1.4 MB)\n",
      "\u001b[2K   \u001b[90m━━━━━━━━━━━━━━━━━━━━━━━━━━━━━━━━━━━━━━━━\u001b[0m \u001b[32m1.4/1.4 MB\u001b[0m \u001b[31m37.8 MB/s\u001b[0m eta \u001b[36m0:00:00\u001b[0m\n",
      "\u001b[?25hUsing cached jaraco.classes-3.4.0-py3-none-any.whl (6.8 kB)\n",
      "Using cached jaraco.context-6.0.1-py3-none-any.whl (6.8 kB)\n",
      "Using cached jaraco.functools-4.1.0-py3-none-any.whl (10 kB)\n",
      "Using cached more_itertools-10.6.0-py3-none-any.whl (63 kB)\n",
      "Installing collected packages: trove-classifiers, distlib, tomlkit, shellingham, rapidfuzz, pyproject-hooks, poetry-core, pkginfo, pbs-installer, msgpack, more-itertools, jaraco.context, installer, findpython, filelock, dulwich, crashtest, xattr, virtualenv, requests-toolbelt, jaraco.functools, jaraco.classes, cleo, cachecontrol, build, keyring, poetry\n",
      "Successfully installed build-1.2.2.post1 cachecontrol-0.14.2 cleo-2.1.0 crashtest-0.4.1 distlib-0.3.9 dulwich-0.22.8 filelock-3.18.0 findpython-0.6.3 installer-0.7.0 jaraco.classes-3.4.0 jaraco.context-6.0.1 jaraco.functools-4.1.0 keyring-25.6.0 more-itertools-10.6.0 msgpack-1.1.0 pbs-installer-2025.3.17 pkginfo-1.12.1.2 poetry-2.1.1 poetry-core-2.1.1 pyproject-hooks-1.2.0 rapidfuzz-3.12.2 requests-toolbelt-1.0.0 shellingham-1.5.4 tomlkit-0.13.2 trove-classifiers-2025.3.19.19 virtualenv-20.29.3 xattr-1.1.4\n",
      "Note: you may need to restart the kernel to use updated packages.\n"
     ]
    }
   ],
   "source": [
    "pip install poetry"
   ]
  },
  {
   "cell_type": "code",
   "execution_count": 3,
   "id": "1f4385bd-48f1-407d-a19d-3ade5563f05c",
   "metadata": {},
   "outputs": [],
   "source": [
    "import os\n",
    "os.chdir('/Users/markfisher/Desktop/ami-ml')"
   ]
  },
  {
   "cell_type": "code",
   "execution_count": 15,
   "id": "3c4f46a1-9b60-4a27-8ffa-f59923536a24",
   "metadata": {},
   "outputs": [
    {
     "ename": "SyntaxError",
     "evalue": "invalid syntax (395044418.py, line 1)",
     "output_type": "error",
     "traceback": [
      "  \u001b[36mCell\u001b[39m\u001b[36m \u001b[39m\u001b[32mIn[15]\u001b[39m\u001b[32m, line 1\u001b[39m\n\u001b[31m    \u001b[39m\u001b[31mpoetry run ami-dataset --help\u001b[39m\n           ^\n\u001b[31mSyntaxError\u001b[39m\u001b[31m:\u001b[39m invalid syntax\n"
     ]
    }
   ],
   "source": [
    "poetry run ami-dataset --help"
   ]
  },
  {
   "cell_type": "code",
   "execution_count": 5,
   "id": "8381730d-c53d-4b05-a519-2b2a07fb80b4",
   "metadata": {},
   "outputs": [
    {
     "name": "stdout",
     "output_type": "stream",
     "text": [
      "total 704\n",
      "-rw-r--r--   1 markfisher  staff    1067 Mar  7 07:53 LICENSE\n",
      "-rw-r--r--   1 markfisher  staff    2450 Mar  7 07:53 README.md\n",
      "drwxr-xr-x  12 markfisher  staff     384 Mar  7 07:53 \u001b[34marchive\u001b[m\u001b[m\n",
      "drwxr-xr-x   7 markfisher  staff     224 Mar 14 16:36 \u001b[34massets\u001b[m\u001b[m\n",
      "-rw-r--r--   1 markfisher  staff      93 Mar  7 07:53 environment.yml\n",
      "-rw-r--r--   1 markfisher  staff  341505 Mar 14 16:46 poetry.lock\n",
      "-rw-r--r--   1 markfisher  staff    1721 Mar 14 16:46 pyproject.toml\n",
      "drwxr-xr-x  10 markfisher  staff     320 Mar 14 16:36 \u001b[34mresearch\u001b[m\u001b[m\n",
      "drwxr-xr-x  11 markfisher  staff     352 Mar  7 07:53 \u001b[34mscripts\u001b[m\u001b[m\n",
      "drwxr-xr-x   5 markfisher  staff     160 Mar  7 07:53 \u001b[34msrc\u001b[m\u001b[m\n",
      "drwxr-xr-x   4 markfisher  staff     128 Mar  7 07:53 \u001b[34mtests\u001b[m\u001b[m\n",
      "Hello from the shell\n"
     ]
    }
   ],
   "source": [
    "!ls -l\n",
    "!echo \"Hello from the shell\""
   ]
  },
  {
   "cell_type": "code",
   "execution_count": 16,
   "id": "62d2e9a9-109a-4f7f-a717-4fdc6452eab1",
   "metadata": {},
   "outputs": [
    {
     "name": "stdout",
     "output_type": "stream",
     "text": [
      "Usage: ami-dataset [OPTIONS] COMMAND [ARGS]...\n",
      "\n",
      "  This is the main command line interface for dataset tools.\n",
      "\n",
      "Options:\n",
      "  --help  Show this message and exit.\n",
      "\n",
      "Commands:\n",
      "  fetch-images       Download images from urls found in input DwC-A file\n",
      "  verify-images      Check if there are errors in the images\n",
      "  delete-images      Delete images based on input list\n",
      "  predict-lifestage  Predict lifestage for moths\n",
      "  clean-dataset      Filter out images to ensure quality of training data\n",
      "  split-dataset      Split the provided dataset into train, validate and...\n",
      "  create-webdataset  Assemble final training set in webdataset format\n"
     ]
    }
   ],
   "source": [
    "!poetry run ami-dataset --help"
   ]
  },
  {
   "cell_type": "code",
   "execution_count": 7,
   "id": "a88bc6e8-50c1-439f-bddb-2a880476bb07",
   "metadata": {},
   "outputs": [
    {
     "name": "stdout",
     "output_type": "stream",
     "text": [
      "Usage: ami-dataset create-webdataset [OPTIONS]\n",
      "\n",
      "  Assemble final training set in webdataset format\n",
      "\n",
      "Options:\n",
      "  --annotations-csv TEXT          Path to csv file containing the annotations\n",
      "                                  [required]\n",
      "  --dataset-path TEXT             Path to directory containing dataset images.\n",
      "                                  [required]\n",
      "  --image-path-column TEXT        CSV column containing image file path\n",
      "                                  [required]\n",
      "  --label-column TEXT             CSV column containing image label\n",
      "                                  [required]\n",
      "  --webdataset-pattern TEXT       Webdataset output file pattern  [required]\n",
      "  --category-map-json TEXT        JSON containing the categories id map. If\n",
      "                                  not provided, the category map will be\n",
      "                                  infered from annotations csv. MUST PROVIDE\n",
      "                                  IT for validation and test sets from the\n",
      "                                  training set.\n",
      "  --columns-to-json TEXT          List of columns from CSV file to save as\n",
      "                                  metadata in a json file.\n",
      "  --max-shard-size INTEGER        Maximun size of each shard in bytes\n",
      "                                  [default: 104857600]\n",
      "  --megadetector-results-json TEXT\n",
      "                                  Path to json file containing megadetector\n",
      "                                  results. If provided, the images will be\n",
      "                                  cropped to a squared region around the bbox\n",
      "                                  with the highest confidence.\n",
      "  --resize-min-size INTEGER       Size which the shortest image side will be\n",
      "                                  resized to. If it is not given, the original\n",
      "                                  image is used withou resizing.\n",
      "  --save-category-map-json TEXT   Path to save the category map json, if\n",
      "                                  inferred from the annotations csv.\n",
      "  --random-seed INTEGER           Random seed for reproducible experiments\n",
      "                                  [default: 42]\n",
      "  --shuffle-images BOOLEAN        Shufle images before to write to tar files\n",
      "                                  [default: True]\n",
      "  --wandb-entity TEXT             Weights & Biases entity\n",
      "  --wandb-project TEXT            Weights & Biases project\n",
      "  --wandb-run TEXT                Weights & Biases run name\n",
      "  --help                          Show this message and exit.\n"
     ]
    }
   ],
   "source": [
    "!poetry run ami-dataset create-webdataset --help"
   ]
  },
  {
   "cell_type": "code",
   "execution_count": 9,
   "id": "d7facda9-f187-4057-9eaf-f08f530f2a5b",
   "metadata": {},
   "outputs": [
    {
     "name": "stdout",
     "output_type": "stream",
     "text": [
      "# writing /Users/markfisher/Desktop/cr_moth_classification/ami-ml-images/model-training/train-000000.tar 0 0.0 GB 0\n",
      "File /Users/markfisher/Desktop/cr_moth_classification/ami-ml-images/model-training/50c9509d-22c7-4a22-a47d-8c48425ef4a7/4453981552.jpg not found\n",
      "File /Users/markfisher/Desktop/cr_moth_classification/ami-ml-images/model-training/50c9509d-22c7-4a22-a47d-8c48425ef4a7/3986095764.jpg not found\n",
      "File /Users/markfisher/Desktop/cr_moth_classification/ami-ml-images/model-training/040c5662-da76-4782-a48e-cdea1892d14c/1416551681.jpg not found\n",
      "File /Users/markfisher/Desktop/cr_moth_classification/ami-ml-images/model-training/50c9509d-22c7-4a22-a47d-8c48425ef4a7/4400014662.jpg not found\n",
      "File /Users/markfisher/Desktop/cr_moth_classification/ami-ml-images/model-training/50c9509d-22c7-4a22-a47d-8c48425ef4a7/3343925989.jpg not found\n",
      "File /Users/markfisher/Desktop/cr_moth_classification/ami-ml-images/model-training/50c9509d-22c7-4a22-a47d-8c48425ef4a7/4522518893.jpg not found\n",
      "File /Users/markfisher/Desktop/cr_moth_classification/ami-ml-images/model-training/040c5662-da76-4782-a48e-cdea1892d14c/2248790754.jpg not found\n",
      "File /Users/markfisher/Desktop/cr_moth_classification/ami-ml-images/model-training/040c5662-da76-4782-a48e-cdea1892d14c/1413829182.jpg not found\n",
      "File /Users/markfisher/Desktop/cr_moth_classification/ami-ml-images/model-training/50c9509d-22c7-4a22-a47d-8c48425ef4a7/2557781135.jpg not found\n",
      "File /Users/markfisher/Desktop/cr_moth_classification/ami-ml-images/model-training/040c5662-da76-4782-a48e-cdea1892d14c/1416551673.jpg not found\n",
      "File /Users/markfisher/Desktop/cr_moth_classification/ami-ml-images/model-training/50c9509d-22c7-4a22-a47d-8c48425ef4a7/4453684801.jpg not found\n",
      "File /Users/markfisher/Desktop/cr_moth_classification/ami-ml-images/model-training/040c5662-da76-4782-a48e-cdea1892d14c/1414162264.jpg not found\n",
      "File /Users/markfisher/Desktop/cr_moth_classification/ami-ml-images/model-training/50c9509d-22c7-4a22-a47d-8c48425ef4a7/4075864623.jpg not found\n",
      "File /Users/markfisher/Desktop/cr_moth_classification/ami-ml-images/model-training/040c5662-da76-4782-a48e-cdea1892d14c/2248793050.jpg not found\n",
      "File /Users/markfisher/Desktop/cr_moth_classification/ami-ml-images/model-training/50c9509d-22c7-4a22-a47d-8c48425ef4a7/4524982445_1.jpg not found\n",
      "File /Users/markfisher/Desktop/cr_moth_classification/ami-ml-images/model-training/cca13f2c-0d2c-4c2f-93b9-4446c0cc1629/2542784618.jpg not found\n",
      "File /Users/markfisher/Desktop/cr_moth_classification/ami-ml-images/model-training/323b0e80-5e4b-4cc4-936a-d93fc8cae9bc/2432248760.jpg not found\n",
      "File /Users/markfisher/Desktop/cr_moth_classification/ami-ml-images/model-training/50c9509d-22c7-4a22-a47d-8c48425ef4a7/2823186449.jpg not found\n",
      "File /Users/markfisher/Desktop/cr_moth_classification/ami-ml-images/model-training/50c9509d-22c7-4a22-a47d-8c48425ef4a7/4892004258.jpg not found\n",
      "File /Users/markfisher/Desktop/cr_moth_classification/ami-ml-images/model-training/323b0e80-5e4b-4cc4-936a-d93fc8cae9bc/2432248596.jpg not found\n",
      "File /Users/markfisher/Desktop/cr_moth_classification/ami-ml-images/model-training/50c9509d-22c7-4a22-a47d-8c48425ef4a7/4458345900.jpg not found\n",
      "File /Users/markfisher/Desktop/cr_moth_classification/ami-ml-images/model-training/50c9509d-22c7-4a22-a47d-8c48425ef4a7/3384848548.jpg not found\n",
      "File /Users/markfisher/Desktop/cr_moth_classification/ami-ml-images/model-training/50c9509d-22c7-4a22-a47d-8c48425ef4a7/3456044888_1.jpg not found\n",
      "File /Users/markfisher/Desktop/cr_moth_classification/ami-ml-images/model-training/040c5662-da76-4782-a48e-cdea1892d14c/1414151460.jpg not found\n",
      "File /Users/markfisher/Desktop/cr_moth_classification/ami-ml-images/model-training/040c5662-da76-4782-a48e-cdea1892d14c/1414149519.jpg not found\n",
      "File /Users/markfisher/Desktop/cr_moth_classification/ami-ml-images/model-training/040c5662-da76-4782-a48e-cdea1892d14c/1414174622.jpg not found\n",
      "File /Users/markfisher/Desktop/cr_moth_classification/ami-ml-images/model-training/040c5662-da76-4782-a48e-cdea1892d14c/2250793305.jpg not found\n",
      "File /Users/markfisher/Desktop/cr_moth_classification/ami-ml-images/model-training/50c9509d-22c7-4a22-a47d-8c48425ef4a7/3455240899_2.jpg not found\n",
      "File /Users/markfisher/Desktop/cr_moth_classification/ami-ml-images/model-training/040c5662-da76-4782-a48e-cdea1892d14c/2633617594.jpg not found\n",
      "File /Users/markfisher/Desktop/cr_moth_classification/ami-ml-images/model-training/50c9509d-22c7-4a22-a47d-8c48425ef4a7/3456165726.jpg not found\n",
      "File /Users/markfisher/Desktop/cr_moth_classification/ami-ml-images/model-training/50c9509d-22c7-4a22-a47d-8c48425ef4a7/4407198475.jpg not found\n",
      "File /Users/markfisher/Desktop/cr_moth_classification/ami-ml-images/model-training/040c5662-da76-4782-a48e-cdea1892d14c/2248772564.jpg not found\n",
      "File /Users/markfisher/Desktop/cr_moth_classification/ami-ml-images/model-training/040c5662-da76-4782-a48e-cdea1892d14c/1415700399.jpg not found\n",
      "File /Users/markfisher/Desktop/cr_moth_classification/ami-ml-images/model-training/50c9509d-22c7-4a22-a47d-8c48425ef4a7/4172042301.jpg not found\n",
      "File /Users/markfisher/Desktop/cr_moth_classification/ami-ml-images/model-training/50c9509d-22c7-4a22-a47d-8c48425ef4a7/4863919380.jpg not found\n",
      "File /Users/markfisher/Desktop/cr_moth_classification/ami-ml-images/model-training/50c9509d-22c7-4a22-a47d-8c48425ef4a7/4062884497.jpg not found\n",
      "File /Users/markfisher/Desktop/cr_moth_classification/ami-ml-images/model-training/040c5662-da76-4782-a48e-cdea1892d14c/1414165266.jpg not found\n",
      "File /Users/markfisher/Desktop/cr_moth_classification/ami-ml-images/model-training/50c9509d-22c7-4a22-a47d-8c48425ef4a7/1838419724_1.jpg not found\n",
      "File /Users/markfisher/Desktop/cr_moth_classification/ami-ml-images/model-training/040c5662-da76-4782-a48e-cdea1892d14c/2633575766.jpg not found\n",
      "File /Users/markfisher/Desktop/cr_moth_classification/ami-ml-images/model-training/040c5662-da76-4782-a48e-cdea1892d14c/1414163018.jpg not found\n",
      "File /Users/markfisher/Desktop/cr_moth_classification/ami-ml-images/model-training/50c9509d-22c7-4a22-a47d-8c48425ef4a7/4102715586.jpg not found\n",
      "File /Users/markfisher/Desktop/cr_moth_classification/ami-ml-images/model-training/040c5662-da76-4782-a48e-cdea1892d14c/2633132627.jpg not found\n",
      "File /Users/markfisher/Desktop/cr_moth_classification/ami-ml-images/model-training/040c5662-da76-4782-a48e-cdea1892d14c/2633842564.jpg not found\n",
      "File /Users/markfisher/Desktop/cr_moth_classification/ami-ml-images/model-training/50c9509d-22c7-4a22-a47d-8c48425ef4a7/3112334814.jpg not found\n",
      "File /Users/markfisher/Desktop/cr_moth_classification/ami-ml-images/model-training/040c5662-da76-4782-a48e-cdea1892d14c/1416551653.jpg not found\n",
      "File /Users/markfisher/Desktop/cr_moth_classification/ami-ml-images/model-training/50c9509d-22c7-4a22-a47d-8c48425ef4a7/4946384054.jpg not found\n",
      "File /Users/markfisher/Desktop/cr_moth_classification/ami-ml-images/model-training/040c5662-da76-4782-a48e-cdea1892d14c/2633303518.jpg not found\n",
      "File /Users/markfisher/Desktop/cr_moth_classification/ami-ml-images/model-training/040c5662-da76-4782-a48e-cdea1892d14c/2248780041.jpg not found\n",
      "File /Users/markfisher/Desktop/cr_moth_classification/ami-ml-images/model-training/040c5662-da76-4782-a48e-cdea1892d14c/1414166692.jpg not found\n",
      "File /Users/markfisher/Desktop/cr_moth_classification/ami-ml-images/model-training/50c9509d-22c7-4a22-a47d-8c48425ef4a7/3764535429_1.jpg not found\n",
      "File /Users/markfisher/Desktop/cr_moth_classification/ami-ml-images/model-training/50c9509d-22c7-4a22-a47d-8c48425ef4a7/3039145459.jpg not found\n",
      "File /Users/markfisher/Desktop/cr_moth_classification/ami-ml-images/model-training/50c9509d-22c7-4a22-a47d-8c48425ef4a7/3456165726_1.jpg not found\n",
      "File /Users/markfisher/Desktop/cr_moth_classification/ami-ml-images/model-training/50c9509d-22c7-4a22-a47d-8c48425ef4a7/4453681921.jpg not found\n",
      "File /Users/markfisher/Desktop/cr_moth_classification/ami-ml-images/model-training/040c5662-da76-4782-a48e-cdea1892d14c/1414167224.jpg not found\n",
      "File /Users/markfisher/Desktop/cr_moth_classification/ami-ml-images/model-training/040c5662-da76-4782-a48e-cdea1892d14c/2248771551.jpg not found\n",
      "File /Users/markfisher/Desktop/cr_moth_classification/ami-ml-images/model-training/040c5662-da76-4782-a48e-cdea1892d14c/2633144598.jpg not found\n",
      "File /Users/markfisher/Desktop/cr_moth_classification/ami-ml-images/model-training/50c9509d-22c7-4a22-a47d-8c48425ef4a7/3031589468_1.jpg not found\n",
      "File /Users/markfisher/Desktop/cr_moth_classification/ami-ml-images/model-training/50c9509d-22c7-4a22-a47d-8c48425ef4a7/4116199361.jpg not found\n",
      "File /Users/markfisher/Desktop/cr_moth_classification/ami-ml-images/model-training/040c5662-da76-4782-a48e-cdea1892d14c/2633597634.jpg not found\n",
      "File /Users/markfisher/Desktop/cr_moth_classification/ami-ml-images/model-training/50c9509d-22c7-4a22-a47d-8c48425ef4a7/4453724682.jpg not found\n",
      "File /Users/markfisher/Desktop/cr_moth_classification/ami-ml-images/model-training/040c5662-da76-4782-a48e-cdea1892d14c/1415507252.jpg not found\n",
      "File /Users/markfisher/Desktop/cr_moth_classification/ami-ml-images/model-training/040c5662-da76-4782-a48e-cdea1892d14c/2633580641.jpg not found\n",
      "File /Users/markfisher/Desktop/cr_moth_classification/ami-ml-images/model-training/50c9509d-22c7-4a22-a47d-8c48425ef4a7/3079803691.jpg not found\n",
      "File /Users/markfisher/Desktop/cr_moth_classification/ami-ml-images/model-training/040c5662-da76-4782-a48e-cdea1892d14c/1414152010.jpg not found\n",
      "File /Users/markfisher/Desktop/cr_moth_classification/ami-ml-images/model-training/50c9509d-22c7-4a22-a47d-8c48425ef4a7/4872294037.jpg not found\n",
      "File /Users/markfisher/Desktop/cr_moth_classification/ami-ml-images/model-training/50c9509d-22c7-4a22-a47d-8c48425ef4a7/4937089115.jpg not found\n",
      "File /Users/markfisher/Desktop/cr_moth_classification/ami-ml-images/model-training/50c9509d-22c7-4a22-a47d-8c48425ef4a7/4453671008.jpg not found\n",
      "File /Users/markfisher/Desktop/cr_moth_classification/ami-ml-images/model-training/040c5662-da76-4782-a48e-cdea1892d14c/1416551645.jpg not found\n",
      "File /Users/markfisher/Desktop/cr_moth_classification/ami-ml-images/model-training/50c9509d-22c7-4a22-a47d-8c48425ef4a7/4945619908.jpg not found\n",
      "File /Users/markfisher/Desktop/cr_moth_classification/ami-ml-images/model-training/50c9509d-22c7-4a22-a47d-8c48425ef4a7/4171734664.jpg not found\n",
      "File /Users/markfisher/Desktop/cr_moth_classification/ami-ml-images/model-training/040c5662-da76-4782-a48e-cdea1892d14c/2633583591.jpg not found\n",
      "File /Users/markfisher/Desktop/cr_moth_classification/ami-ml-images/model-training/040c5662-da76-4782-a48e-cdea1892d14c/1414149786.jpg not found\n",
      "File /Users/markfisher/Desktop/cr_moth_classification/ami-ml-images/model-training/50c9509d-22c7-4a22-a47d-8c48425ef4a7/3044646460.jpg not found\n",
      "File /Users/markfisher/Desktop/cr_moth_classification/ami-ml-images/model-training/50c9509d-22c7-4a22-a47d-8c48425ef4a7/4875396103_1.jpg not found\n",
      "File /Users/markfisher/Desktop/cr_moth_classification/ami-ml-images/model-training/040c5662-da76-4782-a48e-cdea1892d14c/1414182776.jpg not found\n",
      "File /Users/markfisher/Desktop/cr_moth_classification/ami-ml-images/model-training/040c5662-da76-4782-a48e-cdea1892d14c/2248774865.jpg not found\n",
      "File /Users/markfisher/Desktop/cr_moth_classification/ami-ml-images/model-training/50c9509d-22c7-4a22-a47d-8c48425ef4a7/5064070634.jpg not found\n",
      "File /Users/markfisher/Desktop/cr_moth_classification/ami-ml-images/model-training/cca13f2c-0d2c-4c2f-93b9-4446c0cc1629/1847185791.jpg not found\n",
      "File /Users/markfisher/Desktop/cr_moth_classification/ami-ml-images/model-training/040c5662-da76-4782-a48e-cdea1892d14c/2248772783.jpg not found\n",
      "File /Users/markfisher/Desktop/cr_moth_classification/ami-ml-images/model-training/50c9509d-22c7-4a22-a47d-8c48425ef4a7/3455240899_1.jpg not found\n",
      "File /Users/markfisher/Desktop/cr_moth_classification/ami-ml-images/model-training/50c9509d-22c7-4a22-a47d-8c48425ef4a7/4062551504.jpg not found\n",
      "File /Users/markfisher/Desktop/cr_moth_classification/ami-ml-images/model-training/040c5662-da76-4782-a48e-cdea1892d14c/2633581604.jpg not found\n",
      "File /Users/markfisher/Desktop/cr_moth_classification/ami-ml-images/model-training/50c9509d-22c7-4a22-a47d-8c48425ef4a7/4430612974_1.jpg not found\n",
      "File /Users/markfisher/Desktop/cr_moth_classification/ami-ml-images/model-training/50c9509d-22c7-4a22-a47d-8c48425ef4a7/4075927703.jpg not found\n",
      "File /Users/markfisher/Desktop/cr_moth_classification/ami-ml-images/model-training/040c5662-da76-4782-a48e-cdea1892d14c/2248772669.jpg not found\n",
      "File /Users/markfisher/Desktop/cr_moth_classification/ami-ml-images/model-training/50c9509d-22c7-4a22-a47d-8c48425ef4a7/4453684801_1.jpg not found\n",
      "File /Users/markfisher/Desktop/cr_moth_classification/ami-ml-images/model-training/50c9509d-22c7-4a22-a47d-8c48425ef4a7/4453684989.jpg not found\n",
      "File /Users/markfisher/Desktop/cr_moth_classification/ami-ml-images/model-training/50c9509d-22c7-4a22-a47d-8c48425ef4a7/1621798170.jpg not found\n",
      "File /Users/markfisher/Desktop/cr_moth_classification/ami-ml-images/model-training/50c9509d-22c7-4a22-a47d-8c48425ef4a7/2883082556.jpg not found\n",
      "File /Users/markfisher/Desktop/cr_moth_classification/ami-ml-images/model-training/50c9509d-22c7-4a22-a47d-8c48425ef4a7/2901556710.jpg not found\n",
      "File /Users/markfisher/Desktop/cr_moth_classification/ami-ml-images/model-training/750b7bfc-3577-4b26-8aaf-3e4be9f0d639/2816209621.jpg not found\n",
      "File /Users/markfisher/Desktop/cr_moth_classification/ami-ml-images/model-training/50c9509d-22c7-4a22-a47d-8c48425ef4a7/4091514625.jpg not found\n",
      "File /Users/markfisher/Desktop/cr_moth_classification/ami-ml-images/model-training/040c5662-da76-4782-a48e-cdea1892d14c/2633165690.jpg not found\n",
      "File /Users/markfisher/Desktop/cr_moth_classification/ami-ml-images/model-training/040c5662-da76-4782-a48e-cdea1892d14c/2633765675.jpg not found\n",
      "File /Users/markfisher/Desktop/cr_moth_classification/ami-ml-images/model-training/040c5662-da76-4782-a48e-cdea1892d14c/2248781676.jpg not found\n",
      "File /Users/markfisher/Desktop/cr_moth_classification/ami-ml-images/model-training/040c5662-da76-4782-a48e-cdea1892d14c/1413859005.jpg not found\n",
      "File /Users/markfisher/Desktop/cr_moth_classification/ami-ml-images/model-training/040c5662-da76-4782-a48e-cdea1892d14c/1414181164.jpg not found\n",
      "File /Users/markfisher/Desktop/cr_moth_classification/ami-ml-images/model-training/50c9509d-22c7-4a22-a47d-8c48425ef4a7/3923262686.jpg not found\n",
      "File /Users/markfisher/Desktop/cr_moth_classification/ami-ml-images/model-training/040c5662-da76-4782-a48e-cdea1892d14c/2633597634_1.jpg not found\n",
      "File /Users/markfisher/Desktop/cr_moth_classification/ami-ml-images/model-training/040c5662-da76-4782-a48e-cdea1892d14c/1416551661.jpg not found\n",
      "File /Users/markfisher/Desktop/cr_moth_classification/ami-ml-images/model-training/040c5662-da76-4782-a48e-cdea1892d14c/1414152123.jpg not found\n",
      "File /Users/markfisher/Desktop/cr_moth_classification/ami-ml-images/model-training/50c9509d-22c7-4a22-a47d-8c48425ef4a7/3455265473.jpg not found\n",
      "File /Users/markfisher/Desktop/cr_moth_classification/ami-ml-images/model-training/50c9509d-22c7-4a22-a47d-8c48425ef4a7/3058996000.jpg not found\n",
      "File /Users/markfisher/Desktop/cr_moth_classification/ami-ml-images/model-training/50c9509d-22c7-4a22-a47d-8c48425ef4a7/4145373869.jpg not found\n",
      "File /Users/markfisher/Desktop/cr_moth_classification/ami-ml-images/model-training/040c5662-da76-4782-a48e-cdea1892d14c/2248774636.jpg not found\n",
      "File /Users/markfisher/Desktop/cr_moth_classification/ami-ml-images/model-training/cca13f2c-0d2c-4c2f-93b9-4446c0cc1629/1847185840.jpg not found\n",
      "File /Users/markfisher/Desktop/cr_moth_classification/ami-ml-images/model-training/040c5662-da76-4782-a48e-cdea1892d14c/1416551716.jpg not found\n",
      "File /Users/markfisher/Desktop/cr_moth_classification/ami-ml-images/model-training/50c9509d-22c7-4a22-a47d-8c48425ef4a7/3455265473_1.jpg not found\n",
      "File /Users/markfisher/Desktop/cr_moth_classification/ami-ml-images/model-training/040c5662-da76-4782-a48e-cdea1892d14c/1413828101.jpg not found\n",
      "File /Users/markfisher/Desktop/cr_moth_classification/ami-ml-images/model-training/50c9509d-22c7-4a22-a47d-8c48425ef4a7/2465206020.jpg not found\n",
      "File /Users/markfisher/Desktop/cr_moth_classification/ami-ml-images/model-training/323b0e80-5e4b-4cc4-936a-d93fc8cae9bc/2432247422.jpg not found\n",
      "File /Users/markfisher/Desktop/cr_moth_classification/ami-ml-images/model-training/040c5662-da76-4782-a48e-cdea1892d14c/2633136567.jpg not found\n",
      "File /Users/markfisher/Desktop/cr_moth_classification/ami-ml-images/model-training/50c9509d-22c7-4a22-a47d-8c48425ef4a7/3456747118_4.jpg not found\n",
      "File /Users/markfisher/Desktop/cr_moth_classification/ami-ml-images/model-training/50c9509d-22c7-4a22-a47d-8c48425ef4a7/4937110007.jpg not found\n",
      "File /Users/markfisher/Desktop/cr_moth_classification/ami-ml-images/model-training/040c5662-da76-4782-a48e-cdea1892d14c/1414162903.jpg not found\n",
      "File /Users/markfisher/Desktop/cr_moth_classification/ami-ml-images/model-training/50c9509d-22c7-4a22-a47d-8c48425ef4a7/4945642083.jpg not found\n",
      "File /Users/markfisher/Desktop/cr_moth_classification/ami-ml-images/model-training/040c5662-da76-4782-a48e-cdea1892d14c/1414154810.jpg not found\n",
      "File /Users/markfisher/Desktop/cr_moth_classification/ami-ml-images/model-training/50c9509d-22c7-4a22-a47d-8c48425ef4a7/3858966577.jpg not found\n",
      "File /Users/markfisher/Desktop/cr_moth_classification/ami-ml-images/model-training/50c9509d-22c7-4a22-a47d-8c48425ef4a7/4121208408.jpg not found\n",
      "File /Users/markfisher/Desktop/cr_moth_classification/ami-ml-images/model-training/50c9509d-22c7-4a22-a47d-8c48425ef4a7/2898395414.jpg not found\n",
      "File /Users/markfisher/Desktop/cr_moth_classification/ami-ml-images/model-training/50c9509d-22c7-4a22-a47d-8c48425ef4a7/3031589468.jpg not found\n",
      "File /Users/markfisher/Desktop/cr_moth_classification/ami-ml-images/model-training/50c9509d-22c7-4a22-a47d-8c48425ef4a7/4145305787.jpg not found\n",
      "File /Users/markfisher/Desktop/cr_moth_classification/ami-ml-images/model-training/50c9509d-22c7-4a22-a47d-8c48425ef4a7/3985612899.jpg not found\n",
      "File /Users/markfisher/Desktop/cr_moth_classification/ami-ml-images/model-training/50c9509d-22c7-4a22-a47d-8c48425ef4a7/4901047159.jpg not found\n",
      "File /Users/markfisher/Desktop/cr_moth_classification/ami-ml-images/model-training/50c9509d-22c7-4a22-a47d-8c48425ef4a7/4062834272.jpg not found\n",
      "File /Users/markfisher/Desktop/cr_moth_classification/ami-ml-images/model-training/50c9509d-22c7-4a22-a47d-8c48425ef4a7/3070589736.jpg not found\n",
      "File /Users/markfisher/Desktop/cr_moth_classification/ami-ml-images/model-training/50c9509d-22c7-4a22-a47d-8c48425ef4a7/1841321990.jpg not found\n",
      "File /Users/markfisher/Desktop/cr_moth_classification/ami-ml-images/model-training/cca13f2c-0d2c-4c2f-93b9-4446c0cc1629/2542784640.jpg not found\n",
      "File /Users/markfisher/Desktop/cr_moth_classification/ami-ml-images/model-training/040c5662-da76-4782-a48e-cdea1892d14c/2633601523.jpg not found\n",
      "File /Users/markfisher/Desktop/cr_moth_classification/ami-ml-images/model-training/50c9509d-22c7-4a22-a47d-8c48425ef4a7/2818585278_1.jpg not found\n",
      "File /Users/markfisher/Desktop/cr_moth_classification/ami-ml-images/model-training/040c5662-da76-4782-a48e-cdea1892d14c/1414165315.jpg not found\n",
      "File /Users/markfisher/Desktop/cr_moth_classification/ami-ml-images/model-training/040c5662-da76-4782-a48e-cdea1892d14c/1414162503.jpg not found\n",
      "File /Users/markfisher/Desktop/cr_moth_classification/ami-ml-images/model-training/040c5662-da76-4782-a48e-cdea1892d14c/2633748477.jpg not found\n",
      "File /Users/markfisher/Desktop/cr_moth_classification/ami-ml-images/model-training/50c9509d-22c7-4a22-a47d-8c48425ef4a7/4892029613.jpg not found\n",
      "File /Users/markfisher/Desktop/cr_moth_classification/ami-ml-images/model-training/50c9509d-22c7-4a22-a47d-8c48425ef4a7/4852940646.jpg not found\n",
      "File /Users/markfisher/Desktop/cr_moth_classification/ami-ml-images/model-training/50c9509d-22c7-4a22-a47d-8c48425ef4a7/3456044888.jpg not found\n",
      "File /Users/markfisher/Desktop/cr_moth_classification/ami-ml-images/model-training/040c5662-da76-4782-a48e-cdea1892d14c/1414154813.jpg not found\n",
      "File /Users/markfisher/Desktop/cr_moth_classification/ami-ml-images/model-training/040c5662-da76-4782-a48e-cdea1892d14c/2248769724.jpg not found\n",
      "File /Users/markfisher/Desktop/cr_moth_classification/ami-ml-images/model-training/50c9509d-22c7-4a22-a47d-8c48425ef4a7/4458372362.jpg not found\n",
      "File /Users/markfisher/Desktop/cr_moth_classification/ami-ml-images/model-training/50c9509d-22c7-4a22-a47d-8c48425ef4a7/3061766459.jpg not found\n",
      "File /Users/markfisher/Desktop/cr_moth_classification/ami-ml-images/model-training/040c5662-da76-4782-a48e-cdea1892d14c/1414166682.jpg not found\n",
      "File /Users/markfisher/Desktop/cr_moth_classification/ami-ml-images/model-training/cca13f2c-0d2c-4c2f-93b9-4446c0cc1629/1846939235.jpg not found\n",
      "File /Users/markfisher/Desktop/cr_moth_classification/ami-ml-images/model-training/040c5662-da76-4782-a48e-cdea1892d14c/1414181533.jpg not found\n",
      "File /Users/markfisher/Desktop/cr_moth_classification/ami-ml-images/model-training/040c5662-da76-4782-a48e-cdea1892d14c/1414162240.jpg not found\n",
      "File /Users/markfisher/Desktop/cr_moth_classification/ami-ml-images/model-training/50c9509d-22c7-4a22-a47d-8c48425ef4a7/3455240899.jpg not found\n",
      "File /Users/markfisher/Desktop/cr_moth_classification/ami-ml-images/model-training/50c9509d-22c7-4a22-a47d-8c48425ef4a7/3456205902.jpg not found\n",
      "File /Users/markfisher/Desktop/cr_moth_classification/ami-ml-images/model-training/040c5662-da76-4782-a48e-cdea1892d14c/2633134562.jpg not found\n",
      "File /Users/markfisher/Desktop/cr_moth_classification/ami-ml-images/model-training/50c9509d-22c7-4a22-a47d-8c48425ef4a7/3764535429.jpg not found\n",
      "File /Users/markfisher/Desktop/cr_moth_classification/ami-ml-images/model-training/040c5662-da76-4782-a48e-cdea1892d14c/1413828287.jpg not found\n",
      "File /Users/markfisher/Desktop/cr_moth_classification/ami-ml-images/model-training/50c9509d-22c7-4a22-a47d-8c48425ef4a7/3456165726_3.jpg not found\n",
      "File /Users/markfisher/Desktop/cr_moth_classification/ami-ml-images/model-training/50c9509d-22c7-4a22-a47d-8c48425ef4a7/3860661040.jpg not found\n",
      "File /Users/markfisher/Desktop/cr_moth_classification/ami-ml-images/model-training/040c5662-da76-4782-a48e-cdea1892d14c/2633751636.jpg not found\n",
      "File /Users/markfisher/Desktop/cr_moth_classification/ami-ml-images/model-training/50c9509d-22c7-4a22-a47d-8c48425ef4a7/4453724801.jpg not found\n",
      "File /Users/markfisher/Desktop/cr_moth_classification/ami-ml-images/model-training/50c9509d-22c7-4a22-a47d-8c48425ef4a7/3456165726_2.jpg not found\n",
      "File /Users/markfisher/Desktop/cr_moth_classification/ami-ml-images/model-training/040c5662-da76-4782-a48e-cdea1892d14c/1413900585.jpg not found\n",
      "File /Users/markfisher/Desktop/cr_moth_classification/ami-ml-images/model-training/040c5662-da76-4782-a48e-cdea1892d14c/2248770966.jpg not found\n",
      "File /Users/markfisher/Desktop/cr_moth_classification/ami-ml-images/model-training/50c9509d-22c7-4a22-a47d-8c48425ef4a7/4112001243.jpg not found\n",
      "File /Users/markfisher/Desktop/cr_moth_classification/ami-ml-images/model-training/040c5662-da76-4782-a48e-cdea1892d14c/1414164576.jpg not found\n",
      "File /Users/markfisher/Desktop/cr_moth_classification/ami-ml-images/model-training/040c5662-da76-4782-a48e-cdea1892d14c/1414151548.jpg not found\n",
      "File /Users/markfisher/Desktop/cr_moth_classification/ami-ml-images/model-training/50c9509d-22c7-4a22-a47d-8c48425ef4a7/4952489954.jpg not found\n",
      "File /Users/markfisher/Desktop/cr_moth_classification/ami-ml-images/model-training/50c9509d-22c7-4a22-a47d-8c48425ef4a7/3712592128.jpg not found\n",
      "File /Users/markfisher/Desktop/cr_moth_classification/ami-ml-images/model-training/040c5662-da76-4782-a48e-cdea1892d14c/1414174627.jpg not found\n",
      "File /Users/markfisher/Desktop/cr_moth_classification/ami-ml-images/model-training/040c5662-da76-4782-a48e-cdea1892d14c/2248770422.jpg not found\n",
      "File /Users/markfisher/Desktop/cr_moth_classification/ami-ml-images/model-training/040c5662-da76-4782-a48e-cdea1892d14c/1414167585.jpg not found\n",
      "File /Users/markfisher/Desktop/cr_moth_classification/ami-ml-images/model-training/040c5662-da76-4782-a48e-cdea1892d14c/2633149551.jpg not found\n",
      "File /Users/markfisher/Desktop/cr_moth_classification/ami-ml-images/model-training/040c5662-da76-4782-a48e-cdea1892d14c/2633575766_1.jpg not found\n",
      "File /Users/markfisher/Desktop/cr_moth_classification/ami-ml-images/model-training/50c9509d-22c7-4a22-a47d-8c48425ef4a7/2294585583.jpg not found\n",
      "File /Users/markfisher/Desktop/cr_moth_classification/ami-ml-images/model-training/040c5662-da76-4782-a48e-cdea1892d14c/2633756514.jpg not found\n",
      "File /Users/markfisher/Desktop/cr_moth_classification/ami-ml-images/model-training/50c9509d-22c7-4a22-a47d-8c48425ef4a7/3044823595.jpg not found\n",
      "File /Users/markfisher/Desktop/cr_moth_classification/ami-ml-images/model-training/040c5662-da76-4782-a48e-cdea1892d14c/2248781167.jpg not found\n",
      "File /Users/markfisher/Desktop/cr_moth_classification/ami-ml-images/model-training/040c5662-da76-4782-a48e-cdea1892d14c/1413828100.jpg not found\n",
      "File /Users/markfisher/Desktop/cr_moth_classification/ami-ml-images/model-training/50c9509d-22c7-4a22-a47d-8c48425ef4a7/4453953735_1.jpg not found\n",
      "File /Users/markfisher/Desktop/cr_moth_classification/ami-ml-images/model-training/50c9509d-22c7-4a22-a47d-8c48425ef4a7/3067896137.jpg not found\n",
      "File /Users/markfisher/Desktop/cr_moth_classification/ami-ml-images/model-training/040c5662-da76-4782-a48e-cdea1892d14c/2633134688.jpg not found\n",
      "File /Users/markfisher/Desktop/cr_moth_classification/ami-ml-images/model-training/50c9509d-22c7-4a22-a47d-8c48425ef4a7/4535653675.jpg not found\n",
      "File /Users/markfisher/Desktop/cr_moth_classification/ami-ml-images/model-training/040c5662-da76-4782-a48e-cdea1892d14c/2633599567.jpg not found\n",
      "File /Users/markfisher/Desktop/cr_moth_classification/ami-ml-images/model-training/040c5662-da76-4782-a48e-cdea1892d14c/2633157808.jpg not found\n",
      "Finished webdataset creation.\n"
     ]
    }
   ],
   "source": [
    "!poetry run ami-dataset create-webdataset --annotations-csv /Users/markfisher/Desktop/cr_moth_classification/ami-ml-images/train.csv --dataset-path /Users/markfisher/Desktop/cr_moth_classification/ami-ml-images/model-training --image-path-column image_path --label-column acceptedTaxonKey --webdataset-pattern /Users/markfisher/Desktop/cr_moth_classification/ami-ml-images/model-training/train-%06d.tar --save-category-map-json /Users/markfisher/Desktop/cr_moth_classification/ami-ml-images/category_map_world_moth_list.json"
   ]
  },
  {
   "cell_type": "code",
   "execution_count": 10,
   "id": "f0da4b29-9560-40aa-ac5f-1338b9b45c57",
   "metadata": {},
   "outputs": [
    {
     "name": "stdout",
     "output_type": "stream",
     "text": [
      "# writing /Users/markfisher/Desktop/cr_moth_classification/ami-ml-images/model-training/train-000000.tar 0 0.0 GB 0\n",
      "Finished webdataset creation.\n"
     ]
    }
   ],
   "source": [
    "!poetry run ami-dataset create-webdataset --annotations-csv /Users/markfisher/Desktop/cr_moth_classification/ami-ml-images/train.csv --dataset-path /Users/markfisher/Desktop/cr_moth_classification/ami-ml-images --image-path-column image_path --label-column acceptedTaxonKey --webdataset-pattern /Users/markfisher/Desktop/cr_moth_classification/ami-ml-images/model-training/train-%06d.tar --save-category-map-json /Users/markfisher/Desktop/cr_moth_classification/ami-ml-images/category_map_world_moth_list.json"
   ]
  },
  {
   "cell_type": "code",
   "execution_count": null,
   "id": "1780b333-97d7-4163-b121-4b262d3d0731",
   "metadata": {},
   "outputs": [],
   "source": [
    "# Create validation and test WebDatasets"
   ]
  },
  {
   "cell_type": "code",
   "execution_count": 13,
   "id": "ee7ca713-fde0-4cd3-89e9-d331992879bd",
   "metadata": {},
   "outputs": [
    {
     "name": "stdout",
     "output_type": "stream",
     "text": [
      "# writing /Users/markfisher/Desktop/cr_moth_classification/ami-ml-images/model-training/val-000000.tar 0 0.0 GB 0\n",
      "Finished webdataset creation.\n"
     ]
    }
   ],
   "source": [
    "!poetry run ami-dataset create-webdataset --annotations-csv /Users/markfisher/Desktop/cr_moth_classification/ami-ml-images/val.csv --dataset-path /Users/markfisher/Desktop/cr_moth_classification/ami-ml-images --image-path-column image_path --label-column acceptedTaxonKey --webdataset-pattern /Users/markfisher/Desktop/cr_moth_classification/ami-ml-images/model-training/val-%06d.tar --category-map-json /Users/markfisher/Desktop/cr_moth_classification/ami-ml-images/category_map_world_moth_list.json"
   ]
  },
  {
   "cell_type": "code",
   "execution_count": 14,
   "id": "28c0cbad-54a2-47d3-82bc-5361c4d82fb7",
   "metadata": {},
   "outputs": [
    {
     "name": "stdout",
     "output_type": "stream",
     "text": [
      "# writing /Users/markfisher/Desktop/cr_moth_classification/ami-ml-images/model-training/test-000000.tar 0 0.0 GB 0\n",
      "Finished webdataset creation.\n"
     ]
    }
   ],
   "source": [
    "!poetry run ami-dataset create-webdataset --annotations-csv /Users/markfisher/Desktop/cr_moth_classification/ami-ml-images/test.csv --dataset-path /Users/markfisher/Desktop/cr_moth_classification/ami-ml-images --image-path-column image_path --label-column acceptedTaxonKey --webdataset-pattern /Users/markfisher/Desktop/cr_moth_classification/ami-ml-images/model-training/test-%06d.tar --category-map-json /Users/markfisher/Desktop/cr_moth_classification/ami-ml-images/category_map_world_moth_list.json"
   ]
  }
 ],
 "metadata": {
  "kernelspec": {
   "display_name": "Python 3 (ipykernel)",
   "language": "python",
   "name": "python3"
  },
  "language_info": {
   "codemirror_mode": {
    "name": "ipython",
    "version": 3
   },
   "file_extension": ".py",
   "mimetype": "text/x-python",
   "name": "python",
   "nbconvert_exporter": "python",
   "pygments_lexer": "ipython3",
   "version": "3.12.8"
  }
 },
 "nbformat": 4,
 "nbformat_minor": 5
}
