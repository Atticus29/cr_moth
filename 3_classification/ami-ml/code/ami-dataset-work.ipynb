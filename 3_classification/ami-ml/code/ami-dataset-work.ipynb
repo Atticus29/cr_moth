{
 "cells": [
  {
   "cell_type": "code",
   "execution_count": 1,
   "id": "1f4385bd-48f1-407d-a19d-3ade5563f05c",
   "metadata": {},
   "outputs": [],
   "source": [
    "import os\n",
    "os.chdir('/Users/markfisher/Desktop/ami-ml')"
   ]
  },
  {
   "cell_type": "code",
   "execution_count": 2,
   "id": "62d2e9a9-109a-4f7f-a717-4fdc6452eab1",
   "metadata": {},
   "outputs": [
    {
     "name": "stdout",
     "output_type": "stream",
     "text": [
      "Usage: ami-dataset [OPTIONS] COMMAND [ARGS]...\n",
      "\n",
      "  This is the main command line interface for dataset tools.\n",
      "\n",
      "Options:\n",
      "  --help  Show this message and exit.\n",
      "\n",
      "Commands:\n",
      "  fetch-images       Download images from urls found in input DwC-A file\n",
      "  verify-images      Check if there are errors in the images\n",
      "  delete-images      Delete images based on input list\n",
      "  predict-lifestage  Predict lifestage for moths\n",
      "  clean-dataset      Filter out images to ensure quality of training data\n",
      "  split-dataset      Split the provided dataset into train, validate and...\n",
      "  create-webdataset  Assemble final training set in webdataset format\n"
     ]
    }
   ],
   "source": [
    "!poetry run ami-dataset --help"
   ]
  },
  {
   "cell_type": "code",
   "execution_count": 7,
   "id": "a88bc6e8-50c1-439f-bddb-2a880476bb07",
   "metadata": {},
   "outputs": [
    {
     "name": "stdout",
     "output_type": "stream",
     "text": [
      "Usage: ami-dataset create-webdataset [OPTIONS]\n",
      "\n",
      "  Assemble final training set in webdataset format\n",
      "\n",
      "Options:\n",
      "  --annotations-csv TEXT          Path to csv file containing the annotations\n",
      "                                  [required]\n",
      "  --dataset-path TEXT             Path to directory containing dataset images.\n",
      "                                  [required]\n",
      "  --image-path-column TEXT        CSV column containing image file path\n",
      "                                  [required]\n",
      "  --label-column TEXT             CSV column containing image label\n",
      "                                  [required]\n",
      "  --webdataset-pattern TEXT       Webdataset output file pattern  [required]\n",
      "  --category-map-json TEXT        JSON containing the categories id map. If\n",
      "                                  not provided, the category map will be\n",
      "                                  infered from annotations csv. MUST PROVIDE\n",
      "                                  IT for validation and test sets from the\n",
      "                                  training set.\n",
      "  --columns-to-json TEXT          List of columns from CSV file to save as\n",
      "                                  metadata in a json file.\n",
      "  --max-shard-size INTEGER        Maximun size of each shard in bytes\n",
      "                                  [default: 104857600]\n",
      "  --megadetector-results-json TEXT\n",
      "                                  Path to json file containing megadetector\n",
      "                                  results. If provided, the images will be\n",
      "                                  cropped to a squared region around the bbox\n",
      "                                  with the highest confidence.\n",
      "  --resize-min-size INTEGER       Size which the shortest image side will be\n",
      "                                  resized to. If it is not given, the original\n",
      "                                  image is used withou resizing.\n",
      "  --save-category-map-json TEXT   Path to save the category map json, if\n",
      "                                  inferred from the annotations csv.\n",
      "  --random-seed INTEGER           Random seed for reproducible experiments\n",
      "                                  [default: 42]\n",
      "  --shuffle-images BOOLEAN        Shufle images before to write to tar files\n",
      "                                  [default: True]\n",
      "  --wandb-entity TEXT             Weights & Biases entity\n",
      "  --wandb-project TEXT            Weights & Biases project\n",
      "  --wandb-run TEXT                Weights & Biases run name\n",
      "  --help                          Show this message and exit.\n"
     ]
    }
   ],
   "source": [
    "!poetry run ami-dataset create-webdataset --help"
   ]
  },
  {
   "cell_type": "code",
   "execution_count": 9,
   "id": "d7facda9-f187-4057-9eaf-f08f530f2a5b",
   "metadata": {},
   "outputs": [
    {
     "name": "stdout",
     "output_type": "stream",
     "text": [
      "# writing /Users/markfisher/Desktop/cr_moth_classification/ami-ml-images/model-training/train-000000.tar 0 0.0 GB 0\n",
      "File /Users/markfisher/Desktop/cr_moth_classification/ami-ml-images/model-training/50c9509d-22c7-4a22-a47d-8c48425ef4a7/4453981552.jpg not found\n",
      "File /Users/markfisher/Desktop/cr_moth_classification/ami-ml-images/model-training/50c9509d-22c7-4a22-a47d-8c48425ef4a7/3986095764.jpg not found\n",
      "File /Users/markfisher/Desktop/cr_moth_classification/ami-ml-images/model-training/040c5662-da76-4782-a48e-cdea1892d14c/1416551681.jpg not found\n",
      "File /Users/markfisher/Desktop/cr_moth_classification/ami-ml-images/model-training/50c9509d-22c7-4a22-a47d-8c48425ef4a7/4400014662.jpg not found\n",
      "File /Users/markfisher/Desktop/cr_moth_classification/ami-ml-images/model-training/50c9509d-22c7-4a22-a47d-8c48425ef4a7/3343925989.jpg not found\n",
      "File /Users/markfisher/Desktop/cr_moth_classification/ami-ml-images/model-training/50c9509d-22c7-4a22-a47d-8c48425ef4a7/4522518893.jpg not found\n",
      "File /Users/markfisher/Desktop/cr_moth_classification/ami-ml-images/model-training/040c5662-da76-4782-a48e-cdea1892d14c/2248790754.jpg not found\n",
      "File /Users/markfisher/Desktop/cr_moth_classification/ami-ml-images/model-training/040c5662-da76-4782-a48e-cdea1892d14c/1413829182.jpg not found\n",
      "File /Users/markfisher/Desktop/cr_moth_classification/ami-ml-images/model-training/50c9509d-22c7-4a22-a47d-8c48425ef4a7/2557781135.jpg not found\n",
      "File /Users/markfisher/Desktop/cr_moth_classification/ami-ml-images/model-training/040c5662-da76-4782-a48e-cdea1892d14c/1416551673.jpg not found\n",
      "File /Users/markfisher/Desktop/cr_moth_classification/ami-ml-images/model-training/50c9509d-22c7-4a22-a47d-8c48425ef4a7/4453684801.jpg not found\n",
      "File /Users/markfisher/Desktop/cr_moth_classification/ami-ml-images/model-training/040c5662-da76-4782-a48e-cdea1892d14c/1414162264.jpg not found\n",
      "File /Users/markfisher/Desktop/cr_moth_classification/ami-ml-images/model-training/50c9509d-22c7-4a22-a47d-8c48425ef4a7/4075864623.jpg not found\n",
      "File /Users/markfisher/Desktop/cr_moth_classification/ami-ml-images/model-training/040c5662-da76-4782-a48e-cdea1892d14c/2248793050.jpg not found\n",
      "File /Users/markfisher/Desktop/cr_moth_classification/ami-ml-images/model-training/50c9509d-22c7-4a22-a47d-8c48425ef4a7/4524982445_1.jpg not found\n",
      "File /Users/markfisher/Desktop/cr_moth_classification/ami-ml-images/model-training/cca13f2c-0d2c-4c2f-93b9-4446c0cc1629/2542784618.jpg not found\n",
      "File /Users/markfisher/Desktop/cr_moth_classification/ami-ml-images/model-training/323b0e80-5e4b-4cc4-936a-d93fc8cae9bc/2432248760.jpg not found\n",
      "File /Users/markfisher/Desktop/cr_moth_classification/ami-ml-images/model-training/50c9509d-22c7-4a22-a47d-8c48425ef4a7/2823186449.jpg not found\n",
      "File /Users/markfisher/Desktop/cr_moth_classification/ami-ml-images/model-training/50c9509d-22c7-4a22-a47d-8c48425ef4a7/4892004258.jpg not found\n",
      "File /Users/markfisher/Desktop/cr_moth_classification/ami-ml-images/model-training/323b0e80-5e4b-4cc4-936a-d93fc8cae9bc/2432248596.jpg not found\n",
      "File /Users/markfisher/Desktop/cr_moth_classification/ami-ml-images/model-training/50c9509d-22c7-4a22-a47d-8c48425ef4a7/4458345900.jpg not found\n",
      "File /Users/markfisher/Desktop/cr_moth_classification/ami-ml-images/model-training/50c9509d-22c7-4a22-a47d-8c48425ef4a7/3384848548.jpg not found\n",
      "File /Users/markfisher/Desktop/cr_moth_classification/ami-ml-images/model-training/50c9509d-22c7-4a22-a47d-8c48425ef4a7/3456044888_1.jpg not found\n",
      "File /Users/markfisher/Desktop/cr_moth_classification/ami-ml-images/model-training/040c5662-da76-4782-a48e-cdea1892d14c/1414151460.jpg not found\n",
      "File /Users/markfisher/Desktop/cr_moth_classification/ami-ml-images/model-training/040c5662-da76-4782-a48e-cdea1892d14c/1414149519.jpg not found\n",
      "File /Users/markfisher/Desktop/cr_moth_classification/ami-ml-images/model-training/040c5662-da76-4782-a48e-cdea1892d14c/1414174622.jpg not found\n",
      "File /Users/markfisher/Desktop/cr_moth_classification/ami-ml-images/model-training/040c5662-da76-4782-a48e-cdea1892d14c/2250793305.jpg not found\n",
      "File /Users/markfisher/Desktop/cr_moth_classification/ami-ml-images/model-training/50c9509d-22c7-4a22-a47d-8c48425ef4a7/3455240899_2.jpg not found\n",
      "File /Users/markfisher/Desktop/cr_moth_classification/ami-ml-images/model-training/040c5662-da76-4782-a48e-cdea1892d14c/2633617594.jpg not found\n",
      "File /Users/markfisher/Desktop/cr_moth_classification/ami-ml-images/model-training/50c9509d-22c7-4a22-a47d-8c48425ef4a7/3456165726.jpg not found\n",
      "File /Users/markfisher/Desktop/cr_moth_classification/ami-ml-images/model-training/50c9509d-22c7-4a22-a47d-8c48425ef4a7/4407198475.jpg not found\n",
      "File /Users/markfisher/Desktop/cr_moth_classification/ami-ml-images/model-training/040c5662-da76-4782-a48e-cdea1892d14c/2248772564.jpg not found\n",
      "File /Users/markfisher/Desktop/cr_moth_classification/ami-ml-images/model-training/040c5662-da76-4782-a48e-cdea1892d14c/1415700399.jpg not found\n",
      "File /Users/markfisher/Desktop/cr_moth_classification/ami-ml-images/model-training/50c9509d-22c7-4a22-a47d-8c48425ef4a7/4172042301.jpg not found\n",
      "File /Users/markfisher/Desktop/cr_moth_classification/ami-ml-images/model-training/50c9509d-22c7-4a22-a47d-8c48425ef4a7/4863919380.jpg not found\n",
      "File /Users/markfisher/Desktop/cr_moth_classification/ami-ml-images/model-training/50c9509d-22c7-4a22-a47d-8c48425ef4a7/4062884497.jpg not found\n",
      "File /Users/markfisher/Desktop/cr_moth_classification/ami-ml-images/model-training/040c5662-da76-4782-a48e-cdea1892d14c/1414165266.jpg not found\n",
      "File /Users/markfisher/Desktop/cr_moth_classification/ami-ml-images/model-training/50c9509d-22c7-4a22-a47d-8c48425ef4a7/1838419724_1.jpg not found\n",
      "File /Users/markfisher/Desktop/cr_moth_classification/ami-ml-images/model-training/040c5662-da76-4782-a48e-cdea1892d14c/2633575766.jpg not found\n",
      "File /Users/markfisher/Desktop/cr_moth_classification/ami-ml-images/model-training/040c5662-da76-4782-a48e-cdea1892d14c/1414163018.jpg not found\n",
      "File /Users/markfisher/Desktop/cr_moth_classification/ami-ml-images/model-training/50c9509d-22c7-4a22-a47d-8c48425ef4a7/4102715586.jpg not found\n",
      "File /Users/markfisher/Desktop/cr_moth_classification/ami-ml-images/model-training/040c5662-da76-4782-a48e-cdea1892d14c/2633132627.jpg not found\n",
      "File /Users/markfisher/Desktop/cr_moth_classification/ami-ml-images/model-training/040c5662-da76-4782-a48e-cdea1892d14c/2633842564.jpg not found\n",
      "File /Users/markfisher/Desktop/cr_moth_classification/ami-ml-images/model-training/50c9509d-22c7-4a22-a47d-8c48425ef4a7/3112334814.jpg not found\n",
      "File /Users/markfisher/Desktop/cr_moth_classification/ami-ml-images/model-training/040c5662-da76-4782-a48e-cdea1892d14c/1416551653.jpg not found\n",
      "File /Users/markfisher/Desktop/cr_moth_classification/ami-ml-images/model-training/50c9509d-22c7-4a22-a47d-8c48425ef4a7/4946384054.jpg not found\n",
      "File /Users/markfisher/Desktop/cr_moth_classification/ami-ml-images/model-training/040c5662-da76-4782-a48e-cdea1892d14c/2633303518.jpg not found\n",
      "File /Users/markfisher/Desktop/cr_moth_classification/ami-ml-images/model-training/040c5662-da76-4782-a48e-cdea1892d14c/2248780041.jpg not found\n",
      "File /Users/markfisher/Desktop/cr_moth_classification/ami-ml-images/model-training/040c5662-da76-4782-a48e-cdea1892d14c/1414166692.jpg not found\n",
      "File /Users/markfisher/Desktop/cr_moth_classification/ami-ml-images/model-training/50c9509d-22c7-4a22-a47d-8c48425ef4a7/3764535429_1.jpg not found\n",
      "File /Users/markfisher/Desktop/cr_moth_classification/ami-ml-images/model-training/50c9509d-22c7-4a22-a47d-8c48425ef4a7/3039145459.jpg not found\n",
      "File /Users/markfisher/Desktop/cr_moth_classification/ami-ml-images/model-training/50c9509d-22c7-4a22-a47d-8c48425ef4a7/3456165726_1.jpg not found\n",
      "File /Users/markfisher/Desktop/cr_moth_classification/ami-ml-images/model-training/50c9509d-22c7-4a22-a47d-8c48425ef4a7/4453681921.jpg not found\n",
      "File /Users/markfisher/Desktop/cr_moth_classification/ami-ml-images/model-training/040c5662-da76-4782-a48e-cdea1892d14c/1414167224.jpg not found\n",
      "File /Users/markfisher/Desktop/cr_moth_classification/ami-ml-images/model-training/040c5662-da76-4782-a48e-cdea1892d14c/2248771551.jpg not found\n",
      "File /Users/markfisher/Desktop/cr_moth_classification/ami-ml-images/model-training/040c5662-da76-4782-a48e-cdea1892d14c/2633144598.jpg not found\n",
      "File /Users/markfisher/Desktop/cr_moth_classification/ami-ml-images/model-training/50c9509d-22c7-4a22-a47d-8c48425ef4a7/3031589468_1.jpg not found\n",
      "File /Users/markfisher/Desktop/cr_moth_classification/ami-ml-images/model-training/50c9509d-22c7-4a22-a47d-8c48425ef4a7/4116199361.jpg not found\n",
      "File /Users/markfisher/Desktop/cr_moth_classification/ami-ml-images/model-training/040c5662-da76-4782-a48e-cdea1892d14c/2633597634.jpg not found\n",
      "File /Users/markfisher/Desktop/cr_moth_classification/ami-ml-images/model-training/50c9509d-22c7-4a22-a47d-8c48425ef4a7/4453724682.jpg not found\n",
      "File /Users/markfisher/Desktop/cr_moth_classification/ami-ml-images/model-training/040c5662-da76-4782-a48e-cdea1892d14c/1415507252.jpg not found\n",
      "File /Users/markfisher/Desktop/cr_moth_classification/ami-ml-images/model-training/040c5662-da76-4782-a48e-cdea1892d14c/2633580641.jpg not found\n",
      "File /Users/markfisher/Desktop/cr_moth_classification/ami-ml-images/model-training/50c9509d-22c7-4a22-a47d-8c48425ef4a7/3079803691.jpg not found\n",
      "File /Users/markfisher/Desktop/cr_moth_classification/ami-ml-images/model-training/040c5662-da76-4782-a48e-cdea1892d14c/1414152010.jpg not found\n",
      "File /Users/markfisher/Desktop/cr_moth_classification/ami-ml-images/model-training/50c9509d-22c7-4a22-a47d-8c48425ef4a7/4872294037.jpg not found\n",
      "File /Users/markfisher/Desktop/cr_moth_classification/ami-ml-images/model-training/50c9509d-22c7-4a22-a47d-8c48425ef4a7/4937089115.jpg not found\n",
      "File /Users/markfisher/Desktop/cr_moth_classification/ami-ml-images/model-training/50c9509d-22c7-4a22-a47d-8c48425ef4a7/4453671008.jpg not found\n",
      "File /Users/markfisher/Desktop/cr_moth_classification/ami-ml-images/model-training/040c5662-da76-4782-a48e-cdea1892d14c/1416551645.jpg not found\n",
      "File /Users/markfisher/Desktop/cr_moth_classification/ami-ml-images/model-training/50c9509d-22c7-4a22-a47d-8c48425ef4a7/4945619908.jpg not found\n",
      "File /Users/markfisher/Desktop/cr_moth_classification/ami-ml-images/model-training/50c9509d-22c7-4a22-a47d-8c48425ef4a7/4171734664.jpg not found\n",
      "File /Users/markfisher/Desktop/cr_moth_classification/ami-ml-images/model-training/040c5662-da76-4782-a48e-cdea1892d14c/2633583591.jpg not found\n",
      "File /Users/markfisher/Desktop/cr_moth_classification/ami-ml-images/model-training/040c5662-da76-4782-a48e-cdea1892d14c/1414149786.jpg not found\n",
      "File /Users/markfisher/Desktop/cr_moth_classification/ami-ml-images/model-training/50c9509d-22c7-4a22-a47d-8c48425ef4a7/3044646460.jpg not found\n",
      "File /Users/markfisher/Desktop/cr_moth_classification/ami-ml-images/model-training/50c9509d-22c7-4a22-a47d-8c48425ef4a7/4875396103_1.jpg not found\n",
      "File /Users/markfisher/Desktop/cr_moth_classification/ami-ml-images/model-training/040c5662-da76-4782-a48e-cdea1892d14c/1414182776.jpg not found\n",
      "File /Users/markfisher/Desktop/cr_moth_classification/ami-ml-images/model-training/040c5662-da76-4782-a48e-cdea1892d14c/2248774865.jpg not found\n",
      "File /Users/markfisher/Desktop/cr_moth_classification/ami-ml-images/model-training/50c9509d-22c7-4a22-a47d-8c48425ef4a7/5064070634.jpg not found\n",
      "File /Users/markfisher/Desktop/cr_moth_classification/ami-ml-images/model-training/cca13f2c-0d2c-4c2f-93b9-4446c0cc1629/1847185791.jpg not found\n",
      "File /Users/markfisher/Desktop/cr_moth_classification/ami-ml-images/model-training/040c5662-da76-4782-a48e-cdea1892d14c/2248772783.jpg not found\n",
      "File /Users/markfisher/Desktop/cr_moth_classification/ami-ml-images/model-training/50c9509d-22c7-4a22-a47d-8c48425ef4a7/3455240899_1.jpg not found\n",
      "File /Users/markfisher/Desktop/cr_moth_classification/ami-ml-images/model-training/50c9509d-22c7-4a22-a47d-8c48425ef4a7/4062551504.jpg not found\n",
      "File /Users/markfisher/Desktop/cr_moth_classification/ami-ml-images/model-training/040c5662-da76-4782-a48e-cdea1892d14c/2633581604.jpg not found\n",
      "File /Users/markfisher/Desktop/cr_moth_classification/ami-ml-images/model-training/50c9509d-22c7-4a22-a47d-8c48425ef4a7/4430612974_1.jpg not found\n",
      "File /Users/markfisher/Desktop/cr_moth_classification/ami-ml-images/model-training/50c9509d-22c7-4a22-a47d-8c48425ef4a7/4075927703.jpg not found\n",
      "File /Users/markfisher/Desktop/cr_moth_classification/ami-ml-images/model-training/040c5662-da76-4782-a48e-cdea1892d14c/2248772669.jpg not found\n",
      "File /Users/markfisher/Desktop/cr_moth_classification/ami-ml-images/model-training/50c9509d-22c7-4a22-a47d-8c48425ef4a7/4453684801_1.jpg not found\n",
      "File /Users/markfisher/Desktop/cr_moth_classification/ami-ml-images/model-training/50c9509d-22c7-4a22-a47d-8c48425ef4a7/4453684989.jpg not found\n",
      "File /Users/markfisher/Desktop/cr_moth_classification/ami-ml-images/model-training/50c9509d-22c7-4a22-a47d-8c48425ef4a7/1621798170.jpg not found\n",
      "File /Users/markfisher/Desktop/cr_moth_classification/ami-ml-images/model-training/50c9509d-22c7-4a22-a47d-8c48425ef4a7/2883082556.jpg not found\n",
      "File /Users/markfisher/Desktop/cr_moth_classification/ami-ml-images/model-training/50c9509d-22c7-4a22-a47d-8c48425ef4a7/2901556710.jpg not found\n",
      "File /Users/markfisher/Desktop/cr_moth_classification/ami-ml-images/model-training/750b7bfc-3577-4b26-8aaf-3e4be9f0d639/2816209621.jpg not found\n",
      "File /Users/markfisher/Desktop/cr_moth_classification/ami-ml-images/model-training/50c9509d-22c7-4a22-a47d-8c48425ef4a7/4091514625.jpg not found\n",
      "File /Users/markfisher/Desktop/cr_moth_classification/ami-ml-images/model-training/040c5662-da76-4782-a48e-cdea1892d14c/2633165690.jpg not found\n",
      "File /Users/markfisher/Desktop/cr_moth_classification/ami-ml-images/model-training/040c5662-da76-4782-a48e-cdea1892d14c/2633765675.jpg not found\n",
      "File /Users/markfisher/Desktop/cr_moth_classification/ami-ml-images/model-training/040c5662-da76-4782-a48e-cdea1892d14c/2248781676.jpg not found\n",
      "File /Users/markfisher/Desktop/cr_moth_classification/ami-ml-images/model-training/040c5662-da76-4782-a48e-cdea1892d14c/1413859005.jpg not found\n",
      "File /Users/markfisher/Desktop/cr_moth_classification/ami-ml-images/model-training/040c5662-da76-4782-a48e-cdea1892d14c/1414181164.jpg not found\n",
      "File /Users/markfisher/Desktop/cr_moth_classification/ami-ml-images/model-training/50c9509d-22c7-4a22-a47d-8c48425ef4a7/3923262686.jpg not found\n",
      "File /Users/markfisher/Desktop/cr_moth_classification/ami-ml-images/model-training/040c5662-da76-4782-a48e-cdea1892d14c/2633597634_1.jpg not found\n",
      "File /Users/markfisher/Desktop/cr_moth_classification/ami-ml-images/model-training/040c5662-da76-4782-a48e-cdea1892d14c/1416551661.jpg not found\n",
      "File /Users/markfisher/Desktop/cr_moth_classification/ami-ml-images/model-training/040c5662-da76-4782-a48e-cdea1892d14c/1414152123.jpg not found\n",
      "File /Users/markfisher/Desktop/cr_moth_classification/ami-ml-images/model-training/50c9509d-22c7-4a22-a47d-8c48425ef4a7/3455265473.jpg not found\n",
      "File /Users/markfisher/Desktop/cr_moth_classification/ami-ml-images/model-training/50c9509d-22c7-4a22-a47d-8c48425ef4a7/3058996000.jpg not found\n",
      "File /Users/markfisher/Desktop/cr_moth_classification/ami-ml-images/model-training/50c9509d-22c7-4a22-a47d-8c48425ef4a7/4145373869.jpg not found\n",
      "File /Users/markfisher/Desktop/cr_moth_classification/ami-ml-images/model-training/040c5662-da76-4782-a48e-cdea1892d14c/2248774636.jpg not found\n",
      "File /Users/markfisher/Desktop/cr_moth_classification/ami-ml-images/model-training/cca13f2c-0d2c-4c2f-93b9-4446c0cc1629/1847185840.jpg not found\n",
      "File /Users/markfisher/Desktop/cr_moth_classification/ami-ml-images/model-training/040c5662-da76-4782-a48e-cdea1892d14c/1416551716.jpg not found\n",
      "File /Users/markfisher/Desktop/cr_moth_classification/ami-ml-images/model-training/50c9509d-22c7-4a22-a47d-8c48425ef4a7/3455265473_1.jpg not found\n",
      "File /Users/markfisher/Desktop/cr_moth_classification/ami-ml-images/model-training/040c5662-da76-4782-a48e-cdea1892d14c/1413828101.jpg not found\n",
      "File /Users/markfisher/Desktop/cr_moth_classification/ami-ml-images/model-training/50c9509d-22c7-4a22-a47d-8c48425ef4a7/2465206020.jpg not found\n",
      "File /Users/markfisher/Desktop/cr_moth_classification/ami-ml-images/model-training/323b0e80-5e4b-4cc4-936a-d93fc8cae9bc/2432247422.jpg not found\n",
      "File /Users/markfisher/Desktop/cr_moth_classification/ami-ml-images/model-training/040c5662-da76-4782-a48e-cdea1892d14c/2633136567.jpg not found\n",
      "File /Users/markfisher/Desktop/cr_moth_classification/ami-ml-images/model-training/50c9509d-22c7-4a22-a47d-8c48425ef4a7/3456747118_4.jpg not found\n",
      "File /Users/markfisher/Desktop/cr_moth_classification/ami-ml-images/model-training/50c9509d-22c7-4a22-a47d-8c48425ef4a7/4937110007.jpg not found\n",
      "File /Users/markfisher/Desktop/cr_moth_classification/ami-ml-images/model-training/040c5662-da76-4782-a48e-cdea1892d14c/1414162903.jpg not found\n",
      "File /Users/markfisher/Desktop/cr_moth_classification/ami-ml-images/model-training/50c9509d-22c7-4a22-a47d-8c48425ef4a7/4945642083.jpg not found\n",
      "File /Users/markfisher/Desktop/cr_moth_classification/ami-ml-images/model-training/040c5662-da76-4782-a48e-cdea1892d14c/1414154810.jpg not found\n",
      "File /Users/markfisher/Desktop/cr_moth_classification/ami-ml-images/model-training/50c9509d-22c7-4a22-a47d-8c48425ef4a7/3858966577.jpg not found\n",
      "File /Users/markfisher/Desktop/cr_moth_classification/ami-ml-images/model-training/50c9509d-22c7-4a22-a47d-8c48425ef4a7/4121208408.jpg not found\n",
      "File /Users/markfisher/Desktop/cr_moth_classification/ami-ml-images/model-training/50c9509d-22c7-4a22-a47d-8c48425ef4a7/2898395414.jpg not found\n",
      "File /Users/markfisher/Desktop/cr_moth_classification/ami-ml-images/model-training/50c9509d-22c7-4a22-a47d-8c48425ef4a7/3031589468.jpg not found\n",
      "File /Users/markfisher/Desktop/cr_moth_classification/ami-ml-images/model-training/50c9509d-22c7-4a22-a47d-8c48425ef4a7/4145305787.jpg not found\n",
      "File /Users/markfisher/Desktop/cr_moth_classification/ami-ml-images/model-training/50c9509d-22c7-4a22-a47d-8c48425ef4a7/3985612899.jpg not found\n",
      "File /Users/markfisher/Desktop/cr_moth_classification/ami-ml-images/model-training/50c9509d-22c7-4a22-a47d-8c48425ef4a7/4901047159.jpg not found\n",
      "File /Users/markfisher/Desktop/cr_moth_classification/ami-ml-images/model-training/50c9509d-22c7-4a22-a47d-8c48425ef4a7/4062834272.jpg not found\n",
      "File /Users/markfisher/Desktop/cr_moth_classification/ami-ml-images/model-training/50c9509d-22c7-4a22-a47d-8c48425ef4a7/3070589736.jpg not found\n",
      "File /Users/markfisher/Desktop/cr_moth_classification/ami-ml-images/model-training/50c9509d-22c7-4a22-a47d-8c48425ef4a7/1841321990.jpg not found\n",
      "File /Users/markfisher/Desktop/cr_moth_classification/ami-ml-images/model-training/cca13f2c-0d2c-4c2f-93b9-4446c0cc1629/2542784640.jpg not found\n",
      "File /Users/markfisher/Desktop/cr_moth_classification/ami-ml-images/model-training/040c5662-da76-4782-a48e-cdea1892d14c/2633601523.jpg not found\n",
      "File /Users/markfisher/Desktop/cr_moth_classification/ami-ml-images/model-training/50c9509d-22c7-4a22-a47d-8c48425ef4a7/2818585278_1.jpg not found\n",
      "File /Users/markfisher/Desktop/cr_moth_classification/ami-ml-images/model-training/040c5662-da76-4782-a48e-cdea1892d14c/1414165315.jpg not found\n",
      "File /Users/markfisher/Desktop/cr_moth_classification/ami-ml-images/model-training/040c5662-da76-4782-a48e-cdea1892d14c/1414162503.jpg not found\n",
      "File /Users/markfisher/Desktop/cr_moth_classification/ami-ml-images/model-training/040c5662-da76-4782-a48e-cdea1892d14c/2633748477.jpg not found\n",
      "File /Users/markfisher/Desktop/cr_moth_classification/ami-ml-images/model-training/50c9509d-22c7-4a22-a47d-8c48425ef4a7/4892029613.jpg not found\n",
      "File /Users/markfisher/Desktop/cr_moth_classification/ami-ml-images/model-training/50c9509d-22c7-4a22-a47d-8c48425ef4a7/4852940646.jpg not found\n",
      "File /Users/markfisher/Desktop/cr_moth_classification/ami-ml-images/model-training/50c9509d-22c7-4a22-a47d-8c48425ef4a7/3456044888.jpg not found\n",
      "File /Users/markfisher/Desktop/cr_moth_classification/ami-ml-images/model-training/040c5662-da76-4782-a48e-cdea1892d14c/1414154813.jpg not found\n",
      "File /Users/markfisher/Desktop/cr_moth_classification/ami-ml-images/model-training/040c5662-da76-4782-a48e-cdea1892d14c/2248769724.jpg not found\n",
      "File /Users/markfisher/Desktop/cr_moth_classification/ami-ml-images/model-training/50c9509d-22c7-4a22-a47d-8c48425ef4a7/4458372362.jpg not found\n",
      "File /Users/markfisher/Desktop/cr_moth_classification/ami-ml-images/model-training/50c9509d-22c7-4a22-a47d-8c48425ef4a7/3061766459.jpg not found\n",
      "File /Users/markfisher/Desktop/cr_moth_classification/ami-ml-images/model-training/040c5662-da76-4782-a48e-cdea1892d14c/1414166682.jpg not found\n",
      "File /Users/markfisher/Desktop/cr_moth_classification/ami-ml-images/model-training/cca13f2c-0d2c-4c2f-93b9-4446c0cc1629/1846939235.jpg not found\n",
      "File /Users/markfisher/Desktop/cr_moth_classification/ami-ml-images/model-training/040c5662-da76-4782-a48e-cdea1892d14c/1414181533.jpg not found\n",
      "File /Users/markfisher/Desktop/cr_moth_classification/ami-ml-images/model-training/040c5662-da76-4782-a48e-cdea1892d14c/1414162240.jpg not found\n",
      "File /Users/markfisher/Desktop/cr_moth_classification/ami-ml-images/model-training/50c9509d-22c7-4a22-a47d-8c48425ef4a7/3455240899.jpg not found\n",
      "File /Users/markfisher/Desktop/cr_moth_classification/ami-ml-images/model-training/50c9509d-22c7-4a22-a47d-8c48425ef4a7/3456205902.jpg not found\n",
      "File /Users/markfisher/Desktop/cr_moth_classification/ami-ml-images/model-training/040c5662-da76-4782-a48e-cdea1892d14c/2633134562.jpg not found\n",
      "File /Users/markfisher/Desktop/cr_moth_classification/ami-ml-images/model-training/50c9509d-22c7-4a22-a47d-8c48425ef4a7/3764535429.jpg not found\n",
      "File /Users/markfisher/Desktop/cr_moth_classification/ami-ml-images/model-training/040c5662-da76-4782-a48e-cdea1892d14c/1413828287.jpg not found\n",
      "File /Users/markfisher/Desktop/cr_moth_classification/ami-ml-images/model-training/50c9509d-22c7-4a22-a47d-8c48425ef4a7/3456165726_3.jpg not found\n",
      "File /Users/markfisher/Desktop/cr_moth_classification/ami-ml-images/model-training/50c9509d-22c7-4a22-a47d-8c48425ef4a7/3860661040.jpg not found\n",
      "File /Users/markfisher/Desktop/cr_moth_classification/ami-ml-images/model-training/040c5662-da76-4782-a48e-cdea1892d14c/2633751636.jpg not found\n",
      "File /Users/markfisher/Desktop/cr_moth_classification/ami-ml-images/model-training/50c9509d-22c7-4a22-a47d-8c48425ef4a7/4453724801.jpg not found\n",
      "File /Users/markfisher/Desktop/cr_moth_classification/ami-ml-images/model-training/50c9509d-22c7-4a22-a47d-8c48425ef4a7/3456165726_2.jpg not found\n",
      "File /Users/markfisher/Desktop/cr_moth_classification/ami-ml-images/model-training/040c5662-da76-4782-a48e-cdea1892d14c/1413900585.jpg not found\n",
      "File /Users/markfisher/Desktop/cr_moth_classification/ami-ml-images/model-training/040c5662-da76-4782-a48e-cdea1892d14c/2248770966.jpg not found\n",
      "File /Users/markfisher/Desktop/cr_moth_classification/ami-ml-images/model-training/50c9509d-22c7-4a22-a47d-8c48425ef4a7/4112001243.jpg not found\n",
      "File /Users/markfisher/Desktop/cr_moth_classification/ami-ml-images/model-training/040c5662-da76-4782-a48e-cdea1892d14c/1414164576.jpg not found\n",
      "File /Users/markfisher/Desktop/cr_moth_classification/ami-ml-images/model-training/040c5662-da76-4782-a48e-cdea1892d14c/1414151548.jpg not found\n",
      "File /Users/markfisher/Desktop/cr_moth_classification/ami-ml-images/model-training/50c9509d-22c7-4a22-a47d-8c48425ef4a7/4952489954.jpg not found\n",
      "File /Users/markfisher/Desktop/cr_moth_classification/ami-ml-images/model-training/50c9509d-22c7-4a22-a47d-8c48425ef4a7/3712592128.jpg not found\n",
      "File /Users/markfisher/Desktop/cr_moth_classification/ami-ml-images/model-training/040c5662-da76-4782-a48e-cdea1892d14c/1414174627.jpg not found\n",
      "File /Users/markfisher/Desktop/cr_moth_classification/ami-ml-images/model-training/040c5662-da76-4782-a48e-cdea1892d14c/2248770422.jpg not found\n",
      "File /Users/markfisher/Desktop/cr_moth_classification/ami-ml-images/model-training/040c5662-da76-4782-a48e-cdea1892d14c/1414167585.jpg not found\n",
      "File /Users/markfisher/Desktop/cr_moth_classification/ami-ml-images/model-training/040c5662-da76-4782-a48e-cdea1892d14c/2633149551.jpg not found\n",
      "File /Users/markfisher/Desktop/cr_moth_classification/ami-ml-images/model-training/040c5662-da76-4782-a48e-cdea1892d14c/2633575766_1.jpg not found\n",
      "File /Users/markfisher/Desktop/cr_moth_classification/ami-ml-images/model-training/50c9509d-22c7-4a22-a47d-8c48425ef4a7/2294585583.jpg not found\n",
      "File /Users/markfisher/Desktop/cr_moth_classification/ami-ml-images/model-training/040c5662-da76-4782-a48e-cdea1892d14c/2633756514.jpg not found\n",
      "File /Users/markfisher/Desktop/cr_moth_classification/ami-ml-images/model-training/50c9509d-22c7-4a22-a47d-8c48425ef4a7/3044823595.jpg not found\n",
      "File /Users/markfisher/Desktop/cr_moth_classification/ami-ml-images/model-training/040c5662-da76-4782-a48e-cdea1892d14c/2248781167.jpg not found\n",
      "File /Users/markfisher/Desktop/cr_moth_classification/ami-ml-images/model-training/040c5662-da76-4782-a48e-cdea1892d14c/1413828100.jpg not found\n",
      "File /Users/markfisher/Desktop/cr_moth_classification/ami-ml-images/model-training/50c9509d-22c7-4a22-a47d-8c48425ef4a7/4453953735_1.jpg not found\n",
      "File /Users/markfisher/Desktop/cr_moth_classification/ami-ml-images/model-training/50c9509d-22c7-4a22-a47d-8c48425ef4a7/3067896137.jpg not found\n",
      "File /Users/markfisher/Desktop/cr_moth_classification/ami-ml-images/model-training/040c5662-da76-4782-a48e-cdea1892d14c/2633134688.jpg not found\n",
      "File /Users/markfisher/Desktop/cr_moth_classification/ami-ml-images/model-training/50c9509d-22c7-4a22-a47d-8c48425ef4a7/4535653675.jpg not found\n",
      "File /Users/markfisher/Desktop/cr_moth_classification/ami-ml-images/model-training/040c5662-da76-4782-a48e-cdea1892d14c/2633599567.jpg not found\n",
      "File /Users/markfisher/Desktop/cr_moth_classification/ami-ml-images/model-training/040c5662-da76-4782-a48e-cdea1892d14c/2633157808.jpg not found\n",
      "Finished webdataset creation.\n"
     ]
    }
   ],
   "source": [
    "!poetry run ami-dataset create-webdataset --annotations-csv /Users/markfisher/Desktop/cr_moth_classification/ami-ml-images/train.csv --dataset-path /Users/markfisher/Desktop/cr_moth_classification/ami-ml-images/model-training --image-path-column image_path --label-column acceptedTaxonKey --webdataset-pattern /Users/markfisher/Desktop/cr_moth_classification/ami-ml-images/model-training/train-%06d.tar --save-category-map-json /Users/markfisher/Desktop/cr_moth_classification/ami-ml-images/category_map_world_moth_list.json"
   ]
  },
  {
   "cell_type": "code",
   "execution_count": 10,
   "id": "f0da4b29-9560-40aa-ac5f-1338b9b45c57",
   "metadata": {},
   "outputs": [
    {
     "name": "stdout",
     "output_type": "stream",
     "text": [
      "# writing /Users/markfisher/Desktop/cr_moth_classification/ami-ml-images/model-training/train-000000.tar 0 0.0 GB 0\n",
      "Finished webdataset creation.\n"
     ]
    }
   ],
   "source": [
    "!poetry run ami-dataset create-webdataset --annotations-csv /Users/markfisher/Desktop/cr_moth_classification/ami-ml-images/train.csv --dataset-path /Users/markfisher/Desktop/cr_moth_classification/ami-ml-images --image-path-column image_path --label-column acceptedTaxonKey --webdataset-pattern /Users/markfisher/Desktop/cr_moth_classification/ami-ml-images/model-training/train-%06d.tar --save-category-map-json /Users/markfisher/Desktop/cr_moth_classification/ami-ml-images/category_map_world_moth_list.json"
   ]
  },
  {
   "cell_type": "code",
   "execution_count": null,
   "id": "1780b333-97d7-4163-b121-4b262d3d0731",
   "metadata": {},
   "outputs": [],
   "source": [
    "# Create validation and test WebDatasets"
   ]
  },
  {
   "cell_type": "code",
   "execution_count": 13,
   "id": "ee7ca713-fde0-4cd3-89e9-d331992879bd",
   "metadata": {},
   "outputs": [
    {
     "name": "stdout",
     "output_type": "stream",
     "text": [
      "# writing /Users/markfisher/Desktop/cr_moth_classification/ami-ml-images/model-training/val-000000.tar 0 0.0 GB 0\n",
      "Finished webdataset creation.\n"
     ]
    }
   ],
   "source": [
    "!poetry run ami-dataset create-webdataset --annotations-csv /Users/markfisher/Desktop/cr_moth_classification/ami-ml-images/val.csv --dataset-path /Users/markfisher/Desktop/cr_moth_classification/ami-ml-images --image-path-column image_path --label-column acceptedTaxonKey --webdataset-pattern /Users/markfisher/Desktop/cr_moth_classification/ami-ml-images/model-training/val-%06d.tar --category-map-json /Users/markfisher/Desktop/cr_moth_classification/ami-ml-images/category_map_world_moth_list.json"
   ]
  },
  {
   "cell_type": "code",
   "execution_count": 14,
   "id": "28c0cbad-54a2-47d3-82bc-5361c4d82fb7",
   "metadata": {},
   "outputs": [
    {
     "name": "stdout",
     "output_type": "stream",
     "text": [
      "# writing /Users/markfisher/Desktop/cr_moth_classification/ami-ml-images/model-training/test-000000.tar 0 0.0 GB 0\n",
      "Finished webdataset creation.\n"
     ]
    }
   ],
   "source": [
    "!poetry run ami-dataset create-webdataset --annotations-csv /Users/markfisher/Desktop/cr_moth_classification/ami-ml-images/test.csv --dataset-path /Users/markfisher/Desktop/cr_moth_classification/ami-ml-images --image-path-column image_path --label-column acceptedTaxonKey --webdataset-pattern /Users/markfisher/Desktop/cr_moth_classification/ami-ml-images/model-training/test-%06d.tar --category-map-json /Users/markfisher/Desktop/cr_moth_classification/ami-ml-images/category_map_world_moth_list.json"
   ]
  },
  {
   "cell_type": "code",
   "execution_count": null,
   "id": "65e35f3c-bb74-4281-a894-459f6f2d6e69",
   "metadata": {},
   "outputs": [],
   "source": [
    "# Need to redo create-webdataset because it apparently generates a category map file that's needed for the test and validation"
   ]
  },
  {
   "cell_type": "code",
   "execution_count": null,
   "id": "6a9fe3b0-2de3-429f-9e73-95ef3932b571",
   "metadata": {},
   "outputs": [],
   "source": [
    "# Training"
   ]
  },
  {
   "cell_type": "code",
   "execution_count": 19,
   "id": "48536bb0-3520-4fbc-a4c6-8f9cc034db11",
   "metadata": {},
   "outputs": [
    {
     "name": "stdout",
     "output_type": "stream",
     "text": [
      "# writing /Users/markfisher/Desktop/cr_moth_classification/ami-ml-images/model-training/train-000000.tar 0 0.0 GB 0\n",
      "Finished webdataset creation.\n"
     ]
    }
   ],
   "source": [
    "!poetry run ami-dataset create-webdataset --annotations-csv /Users/markfisher/Desktop/cr_moth_classification/ami-ml-images/result_files/train.csv --dataset-path /Users/markfisher/Desktop/cr_moth_classification/ami-ml-images/ --image-path-column image_path --label-column acceptedTaxonKey --webdataset-pattern /Users/markfisher/Desktop/cr_moth_classification/ami-ml-images/model-training/train-%06d.tar --save-category-map-json /Users/markfisher/Desktop/cr_moth_classification/ami-ml-images/result_files/new-category-map.json"
   ]
  },
  {
   "cell_type": "code",
   "execution_count": null,
   "id": "6fcc717b-2024-4cb6-a5d0-d38a290165bb",
   "metadata": {},
   "outputs": [],
   "source": [
    "# validation"
   ]
  },
  {
   "cell_type": "code",
   "execution_count": 20,
   "id": "a16303bc-2c94-439c-b817-dcd4e69b036f",
   "metadata": {},
   "outputs": [
    {
     "name": "stdout",
     "output_type": "stream",
     "text": [
      "# writing /Users/markfisher/Desktop/cr_moth_classification/ami-ml-images/model-training/val-000000.tar 0 0.0 GB 0\n",
      "Finished webdataset creation.\n"
     ]
    }
   ],
   "source": [
    "!poetry run ami-dataset create-webdataset --annotations-csv /Users/markfisher/Desktop/cr_moth_classification/ami-ml-images/result_files/val.csv --dataset-path /Users/markfisher/Desktop/cr_moth_classification/ami-ml-images --image-path-column image_path --label-column acceptedTaxonKey --webdataset-pattern /Users/markfisher/Desktop/cr_moth_classification/ami-ml-images/model-training/val-%06d.tar --category-map-json /Users/markfisher/Desktop/cr_moth_classification/ami-ml-images/result_files/new-category-map.json"
   ]
  },
  {
   "cell_type": "code",
   "execution_count": null,
   "id": "96521512-fc8c-47ad-a151-4c9487193e12",
   "metadata": {},
   "outputs": [],
   "source": [
    "# test"
   ]
  },
  {
   "cell_type": "code",
   "execution_count": 22,
   "id": "8d6c5802-4c05-4378-bb1b-980e02469ffe",
   "metadata": {},
   "outputs": [
    {
     "name": "stdout",
     "output_type": "stream",
     "text": [
      "# writing /Users/markfisher/Desktop/cr_moth_classification/ami-ml-images/model-training/test-000000.tar 0 0.0 GB 0\n",
      "Finished webdataset creation.\n"
     ]
    }
   ],
   "source": [
    "!poetry run ami-dataset create-webdataset --annotations-csv /Users/markfisher/Desktop/cr_moth_classification/ami-ml-images/result_files/test.csv --dataset-path /Users/markfisher/Desktop/cr_moth_classification/ami-ml-images --image-path-column image_path --label-column acceptedTaxonKey --webdataset-pattern /Users/markfisher/Desktop/cr_moth_classification/ami-ml-images/model-training/test-%06d.tar --category-map-json /Users/markfisher/Desktop/cr_moth_classification/ami-ml-images/result_files/new-category-map.json"
   ]
  },
  {
   "cell_type": "code",
   "execution_count": 26,
   "id": "dcf256db-11de-41ba-9de9-9ad6bd59b823",
   "metadata": {},
   "outputs": [
    {
     "name": "stdout",
     "output_type": "stream",
     "text": [
      "Collecting torch\n",
      "  Downloading torch-2.6.0-cp312-none-macosx_11_0_arm64.whl.metadata (28 kB)\n",
      "Collecting torchvision\n",
      "  Downloading torchvision-0.21.0-cp312-cp312-macosx_11_0_arm64.whl.metadata (6.1 kB)\n",
      "Requirement already satisfied: filelock in /Users/markfisher/miniconda3/lib/python3.12/site-packages (from torch) (3.18.0)\n",
      "Requirement already satisfied: typing-extensions>=4.10.0 in /Users/markfisher/miniconda3/lib/python3.12/site-packages (from torch) (4.12.2)\n",
      "Collecting networkx (from torch)\n",
      "  Downloading networkx-3.4.2-py3-none-any.whl.metadata (6.3 kB)\n",
      "Requirement already satisfied: jinja2 in /Users/markfisher/miniconda3/lib/python3.12/site-packages (from torch) (3.1.5)\n",
      "Collecting fsspec (from torch)\n",
      "  Downloading fsspec-2025.3.2-py3-none-any.whl.metadata (11 kB)\n",
      "Requirement already satisfied: setuptools in /Users/markfisher/miniconda3/lib/python3.12/site-packages (from torch) (75.1.0)\n",
      "Collecting sympy==1.13.1 (from torch)\n",
      "  Downloading sympy-1.13.1-py3-none-any.whl.metadata (12 kB)\n",
      "Collecting mpmath<1.4,>=1.1.0 (from sympy==1.13.1->torch)\n",
      "  Downloading mpmath-1.3.0-py3-none-any.whl.metadata (8.6 kB)\n",
      "Collecting numpy (from torchvision)\n",
      "  Downloading numpy-2.2.4-cp312-cp312-macosx_14_0_arm64.whl.metadata (62 kB)\n",
      "Collecting pillow!=8.3.*,>=5.3.0 (from torchvision)\n",
      "  Downloading pillow-11.1.0-cp312-cp312-macosx_11_0_arm64.whl.metadata (9.1 kB)\n",
      "Requirement already satisfied: MarkupSafe>=2.0 in /Users/markfisher/miniconda3/lib/python3.12/site-packages (from jinja2->torch) (3.0.2)\n",
      "Downloading torch-2.6.0-cp312-none-macosx_11_0_arm64.whl (66.5 MB)\n",
      "\u001b[2K   \u001b[90m━━━━━━━━━━━━━━━━━━━━━━━━━━━━━━━━━━━━━━━━\u001b[0m \u001b[32m66.5/66.5 MB\u001b[0m \u001b[31m4.5 MB/s\u001b[0m eta \u001b[36m0:00:00\u001b[0m00:01\u001b[0m00:01\u001b[0m\n",
      "Downloading sympy-1.13.1-py3-none-any.whl (6.2 MB)\n",
      "\u001b[2K   \u001b[90m━━━━━━━━━━━━━━━━━━━━━━━━━━━━━━━━━━━━━━━━\u001b[0m \u001b[32m6.2/6.2 MB\u001b[0m \u001b[31m5.9 MB/s\u001b[0m eta \u001b[36m0:00:00\u001b[0ma \u001b[36m0:00:01\u001b[0m\n",
      "\u001b[?25hDownloading torchvision-0.21.0-cp312-cp312-macosx_11_0_arm64.whl (1.8 MB)\n",
      "\u001b[2K   \u001b[90m━━━━━━━━━━━━━━━━━━━━━━━━━━━━━━━━━━━━━━━━\u001b[0m \u001b[32m1.8/1.8 MB\u001b[0m \u001b[31m6.4 MB/s\u001b[0m eta \u001b[36m0:00:00\u001b[0ma \u001b[36m0:00:01\u001b[0m\n",
      "\u001b[?25hDownloading pillow-11.1.0-cp312-cp312-macosx_11_0_arm64.whl (3.1 MB)\n",
      "\u001b[2K   \u001b[90m━━━━━━━━━━━━━━━━━━━━━━━━━━━━━━━━━━━━━━━━\u001b[0m \u001b[32m3.1/3.1 MB\u001b[0m \u001b[31m3.8 MB/s\u001b[0m eta \u001b[36m0:00:00\u001b[0ma \u001b[36m0:00:01\u001b[0m\n",
      "\u001b[?25hDownloading fsspec-2025.3.2-py3-none-any.whl (194 kB)\n",
      "Downloading networkx-3.4.2-py3-none-any.whl (1.7 MB)\n",
      "\u001b[2K   \u001b[90m━━━━━━━━━━━━━━━━━━━━━━━━━━━━━━━━━━━━━━━━\u001b[0m \u001b[32m1.7/1.7 MB\u001b[0m \u001b[31m6.7 MB/s\u001b[0m eta \u001b[36m0:00:00\u001b[0ma \u001b[36m0:00:01\u001b[0m\n",
      "Downloading numpy-2.2.4-cp312-cp312-macosx_14_0_arm64.whl (5.2 MB)\n",
      "\u001b[2K   \u001b[90m━━━━━━━━━━━━━━━━━━━━━━━━━━━━━━━━━━━━━━━━\u001b[0m \u001b[32m5.2/5.2 MB\u001b[0m \u001b[31m7.2 MB/s\u001b[0m eta \u001b[36m0:00:00\u001b[0ma \u001b[36m0:00:01\u001b[0m\n",
      "Downloading mpmath-1.3.0-py3-none-any.whl (536 kB)\n",
      "\u001b[2K   \u001b[90m━━━━━━━━━━━━━━━━━━━━━━━━━━━━━━━━━━━━━━━━\u001b[0m \u001b[32m536.2/536.2 kB\u001b[0m \u001b[31m3.9 MB/s\u001b[0m eta \u001b[36m0:00:00\u001b[0m\n",
      "Installing collected packages: mpmath, sympy, pillow, numpy, networkx, fsspec, torch, torchvision\n",
      "Successfully installed fsspec-2025.3.2 mpmath-1.3.0 networkx-3.4.2 numpy-2.2.4 pillow-11.1.0 sympy-1.13.1 torch-2.6.0 torchvision-0.21.0\n"
     ]
    }
   ],
   "source": [
    "!pip install torch torchvision"
   ]
  },
  {
   "cell_type": "code",
   "execution_count": 27,
   "id": "4b228f30-766e-4425-82b7-2df0e3d5c9de",
   "metadata": {},
   "outputs": [
    {
     "name": "stdout",
     "output_type": "stream",
     "text": [
      "Package                   Version\n",
      "------------------------- --------------\n",
      "anaconda-anon-usage       0.5.0\n",
      "anyio                     4.8.0\n",
      "appnope                   0.1.4\n",
      "archspec                  0.2.3\n",
      "argon2-cffi               23.1.0\n",
      "argon2-cffi-bindings      21.2.0\n",
      "arrow                     1.3.0\n",
      "asttokens                 3.0.0\n",
      "async-lru                 2.0.4\n",
      "attrs                     25.1.0\n",
      "babel                     2.17.0\n",
      "beautifulsoup4            4.13.3\n",
      "bleach                    6.2.0\n",
      "boltons                   23.0.0\n",
      "Brotli                    1.0.9\n",
      "bs4                       0.0.2\n",
      "build                     1.2.2.post1\n",
      "CacheControl              0.14.2\n",
      "certifi                   2024.8.30\n",
      "cffi                      1.17.1\n",
      "charset-normalizer        3.3.2\n",
      "cleo                      2.1.0\n",
      "comm                      0.2.2\n",
      "conda                     24.11.1\n",
      "conda-anaconda-telemetry  0.1.1\n",
      "conda-content-trust       0.2.0\n",
      "conda-libmamba-solver     24.9.0\n",
      "conda-package-handling    2.4.0\n",
      "conda_package_streaming   0.11.0\n",
      "crashtest                 0.4.1\n",
      "cryptography              43.0.3\n",
      "debugpy                   1.8.12\n",
      "decorator                 5.2.1\n",
      "defusedxml                0.7.1\n",
      "distlib                   0.3.9\n",
      "distro                    1.9.0\n",
      "dulwich                   0.22.8\n",
      "executing                 2.2.0\n",
      "fastjsonschema            2.21.1\n",
      "filelock                  3.18.0\n",
      "findpython                0.6.3\n",
      "fqdn                      1.5.1\n",
      "frozendict                2.4.2\n",
      "fsspec                    2025.3.2\n",
      "h11                       0.14.0\n",
      "httpcore                  1.0.7\n",
      "httpx                     0.28.1\n",
      "idna                      3.7\n",
      "installer                 0.7.0\n",
      "ipykernel                 6.29.5\n",
      "ipython                   9.0.0\n",
      "ipython_pygments_lexers   1.1.1\n",
      "isoduration               20.11.0\n",
      "jaraco.classes            3.4.0\n",
      "jaraco.context            6.0.1\n",
      "jaraco.functools          4.1.0\n",
      "jedi                      0.19.2\n",
      "Jinja2                    3.1.5\n",
      "json5                     0.10.0\n",
      "jsonpatch                 1.33\n",
      "jsonpointer               2.1\n",
      "jsonschema                4.23.0\n",
      "jsonschema-specifications 2024.10.1\n",
      "jupyter_client            8.6.3\n",
      "jupyter_core              5.7.2\n",
      "jupyter-events            0.12.0\n",
      "jupyter-lsp               2.2.5\n",
      "jupyter_server            2.15.0\n",
      "jupyter_server_terminals  0.5.3\n",
      "jupyterlab                4.3.5\n",
      "jupyterlab_pygments       0.3.0\n",
      "jupyterlab_server         2.27.3\n",
      "keyring                   25.6.0\n",
      "libmambapy                1.5.11\n",
      "MarkupSafe                3.0.2\n",
      "matplotlib-inline         0.1.7\n",
      "menuinst                  2.2.0\n",
      "mistune                   3.1.2\n",
      "more-itertools            10.6.0\n",
      "mpmath                    1.3.0\n",
      "msgpack                   1.1.0\n",
      "nbclient                  0.10.2\n",
      "nbconvert                 7.16.6\n",
      "nbformat                  5.10.4\n",
      "nest-asyncio              1.6.0\n",
      "networkx                  3.4.2\n",
      "notebook                  7.3.2\n",
      "notebook_shim             0.2.4\n",
      "numpy                     2.2.4\n",
      "overrides                 7.7.0\n",
      "packaging                 24.1\n",
      "pandocfilters             1.5.1\n",
      "parso                     0.8.4\n",
      "pbs-installer             2025.3.17\n",
      "pexpect                   4.9.0\n",
      "pillow                    11.1.0\n",
      "pip                       24.2\n",
      "pkginfo                   1.12.1.2\n",
      "platformdirs              3.10.0\n",
      "pluggy                    1.5.0\n",
      "poetry                    2.1.1\n",
      "poetry-core               2.1.1\n",
      "prometheus_client         0.21.1\n",
      "prompt_toolkit            3.0.50\n",
      "psutil                    7.0.0\n",
      "ptyprocess                0.7.0\n",
      "pure_eval                 0.2.3\n",
      "pycosat                   0.6.6\n",
      "pycparser                 2.21\n",
      "Pygments                  2.19.1\n",
      "pyproject_hooks           1.2.0\n",
      "PySocks                   1.7.1\n",
      "python-dateutil           2.9.0.post0\n",
      "python-json-logger        3.2.1\n",
      "PyYAML                    6.0.2\n",
      "pyzmq                     26.2.1\n",
      "RapidFuzz                 3.12.2\n",
      "referencing               0.36.2\n",
      "requests                  2.32.3\n",
      "requests-toolbelt         1.0.0\n",
      "rfc3339-validator         0.1.4\n",
      "rfc3986-validator         0.1.1\n",
      "rpds-py                   0.23.1\n",
      "ruamel.yaml               0.18.6\n",
      "ruamel.yaml.clib          0.2.8\n",
      "Send2Trash                1.8.3\n",
      "setuptools                75.1.0\n",
      "shellingham               1.5.4\n",
      "six                       1.17.0\n",
      "sniffio                   1.3.1\n",
      "soupsieve                 2.6\n",
      "stack-data                0.6.3\n",
      "sympy                     1.13.1\n",
      "terminado                 0.18.1\n",
      "tinycss2                  1.4.0\n",
      "tomlkit                   0.13.2\n",
      "torch                     2.6.0\n",
      "torchvision               0.21.0\n",
      "tornado                   6.4.2\n",
      "tqdm                      4.66.5\n",
      "traitlets                 5.14.3\n",
      "trove-classifiers         2025.3.19.19\n",
      "truststore                0.8.0\n",
      "types-python-dateutil     2.9.0.20241206\n",
      "typing_extensions         4.12.2\n",
      "uri-template              1.3.0\n",
      "urllib3                   2.2.3\n",
      "virtualenv                20.29.3\n",
      "wcwidth                   0.2.13\n",
      "webcolors                 24.11.1\n",
      "webencodings              0.5.1\n",
      "websocket-client          1.8.0\n",
      "wheel                     0.44.0\n",
      "xattr                     1.1.4\n",
      "zstandard                 0.23.0\n"
     ]
    }
   ],
   "source": [
    "!pip list"
   ]
  },
  {
   "cell_type": "code",
   "execution_count": null,
   "id": "704fbdfd-3c71-44db-97fe-b182a15483e2",
   "metadata": {},
   "outputs": [],
   "source": [
    "!pip install ultralytics"
   ]
  },
  {
   "cell_type": "code",
   "execution_count": 5,
   "id": "8545d40e-9b69-462a-93d0-e5c3ecd2cc60",
   "metadata": {},
   "outputs": [
    {
     "name": "stdout",
     "output_type": "stream",
     "text": [
      "\n",
      "    Arguments received: ['yolo', 'help']. Ultralytics 'yolo' commands use the following syntax:\n",
      "\n",
      "        yolo TASK MODE ARGS\n",
      "\n",
      "        Where   TASK (optional) is one of frozenset({'pose', 'obb', 'detect', 'segment', 'classify'})\n",
      "                MODE (required) is one of frozenset({'export', 'track', 'val', 'train', 'predict', 'benchmark'})\n",
      "                ARGS (optional) are any number of custom 'arg=value' pairs like 'imgsz=320' that override defaults.\n",
      "                    See all ARGS at https://docs.ultralytics.com/usage/cfg or with 'yolo cfg'\n",
      "\n",
      "    1. Train a detection model for 10 epochs with an initial learning_rate of 0.01\n",
      "        yolo train data=coco8.yaml model=yolo11n.pt epochs=10 lr0=0.01\n",
      "\n",
      "    2. Predict a YouTube video using a pretrained segmentation model at image size 320:\n",
      "        yolo predict model=yolo11n-seg.pt source='https://youtu.be/LNwODJXcvt4' imgsz=320\n",
      "\n",
      "    3. Val a pretrained detection model at batch-size 1 and image size 640:\n",
      "        yolo val model=yolo11n.pt data=coco8.yaml batch=1 imgsz=640\n",
      "\n",
      "    4. Export a YOLO11n classification model to ONNX format at image size 224 by 128 (no TASK required)\n",
      "        yolo export model=yolo11n-cls.pt format=onnx imgsz=224,128\n",
      "\n",
      "    5. Ultralytics solutions usage\n",
      "        yolo solutions count or in ['crop', 'blur', 'workout', 'heatmap', 'isegment', 'visioneye', 'speed', 'queue', 'analytics', 'inference', 'trackzone'] source=\"path/to/video.mp4\"\n",
      "\n",
      "    6. Run special commands:\n",
      "        yolo help\n",
      "        yolo checks\n",
      "        yolo version\n",
      "        yolo settings\n",
      "        yolo copy-cfg\n",
      "        yolo cfg\n",
      "        yolo solutions help\n",
      "\n",
      "    Docs: https://docs.ultralytics.com\n",
      "    Solutions: https://docs.ultralytics.com/solutions/\n",
      "    Community: https://community.ultralytics.com\n",
      "    GitHub: https://github.com/ultralytics/ultralytics\n",
      "    \n"
     ]
    }
   ],
   "source": [
    "!yolo help"
   ]
  },
  {
   "cell_type": "code",
   "execution_count": 6,
   "id": "506f6793-7164-426b-8adf-8e09c3d54cf8",
   "metadata": {},
   "outputs": [
    {
     "name": "stdout",
     "output_type": "stream",
     "text": [
      "Ultralytics 8.3.107 🚀 Python-3.12.8 torch-2.6.0 CPU (Apple M3)\n",
      "YOLO11n summary (fused): 100 layers, 2,582,347 parameters, 0 gradients, 6.3 GFLOPs\n",
      "\n",
      "image 1/1 /Users/markfisher/Desktop/cr_moth_classification/ami-ml/detectors/test_images/l_labec_test1.png: 480x640 1 Moth, 53.1ms\n",
      "Speed: 3.1ms preprocess, 53.1ms inference, 0.9ms postprocess per image at shape (1, 3, 480, 640)\n",
      "Results saved to \u001b[1mruns/detect/predict\u001b[0m\n",
      "💡 Learn more at https://docs.ultralytics.com/modes/predict\n"
     ]
    }
   ],
   "source": [
    "!yolo detect predict source=/Users/markfisher/Desktop/cr_moth_classification/ami-ml/detectors/test_images/ model=/Users/markfisher/Desktop/cr_moth_classification/ami-ml/detectors/fisher_roboflow_yolov11_detector_weights_v2.2.pt"
   ]
  },
  {
   "cell_type": "code",
   "execution_count": 8,
   "id": "93c95812-9604-4f2a-8ee2-85d596721c98",
   "metadata": {},
   "outputs": [
    {
     "name": "stdout",
     "output_type": "stream",
     "text": [
      "\n",
      "0: 480x640 1 Moth, 64.6ms\n",
      "Speed: 2.7ms preprocess, 64.6ms inference, 0.5ms postprocess per image at shape (1, 3, 480, 640)\n",
      "ultralytics.engine.results.Boxes object with attributes:\n",
      "\n",
      "cls: tensor([0.])\n",
      "conf: tensor([0.9576])\n",
      "data: tensor([[1.2402e+01, 1.3554e+01, 1.1178e+03, 8.1966e+02, 9.5758e-01, 0.0000e+00]])\n",
      "id: None\n",
      "is_track: False\n",
      "orig_shape: (820, 1162)\n",
      "shape: torch.Size([1, 6])\n",
      "xywh: tensor([[ 565.1220,  416.6051, 1105.4393,  806.1027]])\n",
      "xywhn: tensor([[0.4863, 0.5081, 0.9513, 0.9831]])\n",
      "xyxy: tensor([[  12.4023,   13.5538, 1117.8417,  819.6564]])\n",
      "xyxyn: tensor([[0.0107, 0.0165, 0.9620, 0.9996]])\n"
     ]
    }
   ],
   "source": [
    "from ultralytics import YOLO\n",
    "\n",
    "# Load a model\n",
    "model = YOLO(\"/Users/markfisher/Desktop/cr_moth_classification/ami-ml/detectors/fisher_roboflow_yolov11_detector_weights_v2.2.pt\")\n",
    "\n",
    "# Run batched inference on a list of images\n",
    "results = model([\"/Users/markfisher/Desktop/cr_moth_classification/ami-ml/detectors/test_images/l_labec_test1.png\"])  # return a list of Results objects\n",
    "\n",
    "# Process results list\n",
    "for result in results:\n",
    "    boxes = result.boxes  # Boxes object for bounding box outputs\n",
    "    print(boxes)\n",
    "    masks = result.masks  # Masks object for segmentation masks outputs\n",
    "    keypoints = result.keypoints  # Keypoints object for pose outputs\n",
    "    probs = result.probs  # Probs object for classification outputs\n",
    "    obb = result.obb  # Oriented boxes object for OBB outputs\n",
    "    result.show()  # display to screen\n",
    "    result.save(filename=\"/Users/markfisher/Desktop/cr_moth_classification/ami-ml/detectors/result.jpg\")  # save to disk"
   ]
  }
 ],
 "metadata": {
  "kernelspec": {
   "display_name": "Python 3 (ipykernel)",
   "language": "python",
   "name": "python3"
  },
  "language_info": {
   "codemirror_mode": {
    "name": "ipython",
    "version": 3
   },
   "file_extension": ".py",
   "mimetype": "text/x-python",
   "name": "python",
   "nbconvert_exporter": "python",
   "pygments_lexer": "ipython3",
   "version": "3.12.8"
  }
 },
 "nbformat": 4,
 "nbformat_minor": 5
}
