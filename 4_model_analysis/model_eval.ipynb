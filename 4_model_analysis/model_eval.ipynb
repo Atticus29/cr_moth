{
 "cells": [
  {
   "cell_type": "code",
   "execution_count": 1,
   "id": "ac3ec728-0fe2-4166-ab79-4b71148bd96b",
   "metadata": {},
   "outputs": [],
   "source": [
    "# Referencing research/eccv2024/model_evaluation/job_fgrained_model_evaluation.sh in the ami-ml rep (https://github.com/RolnickLab/ami-ml)"
   ]
  },
  {
   "cell_type": "code",
   "execution_count": 4,
   "id": "8b0ca6ba-70f9-4736-b044-2dad1da79889",
   "metadata": {},
   "outputs": [],
   "source": [
    "!set -o allexport"
   ]
  },
  {
   "cell_type": "code",
   "execution_count": 6,
   "id": "cd7f750b-fec3-43b7-999d-1307ea12ba51",
   "metadata": {},
   "outputs": [],
   "source": [
    "!set +o allexport"
   ]
  },
  {
   "cell_type": "code",
   "execution_count": null,
   "id": "b0e23bdc-30dd-4eb4-8005-2a6c910e6f6e",
   "metadata": {},
   "outputs": [],
   "source": [
    "!python fgrained_model_evaluation.py \\\n",
    "--run-name cr_roboflow_gbif_run1 \\\n",
    "--artifact /Users/markfisher/Desktop/cr_moth_classification/4_model_analysis/model:v1 \\\n",
    "--region CostaRica \\\n",
    "--model-type resnet50 \\\n",
    "--model-dir /Users/markfisher/Desktop/cr_moth_classification/3_classification/ \\\n",
    "--category-map /Users/markfisher/Desktop/cr_moth_classification/3_classification/ami-ml/code/category_map_world_moth_list.json \\\n",
    "--insect-crops-dir /Users/markfisher/Desktop/cr_moth_classification/1_dataset_prep/classification_data_prep/ready_for_classification_model \\\n",
    "--sp-exclusion-list-file /Users/markfisher/Desktop/cr_moth_classification/4_model_analysis/ami-traps_sp_missing_in_ami-gbif.pickle \\\n",
    "--ami-traps-taxonomy-map-file /Users/markfisher/Desktop/cr_moth_classification/4_model_analysis/ami-traps_taxonomy_map.csv \\\n",
    "--gbif-taxonomy-hierarchy-file /Users/markfisher/Desktop/cr_moth_classification/4_model_analysis/gbif_taxonomy_hierarchy.json"
   ]
  },
  {
   "cell_type": "code",
   "execution_count": null,
   "id": "7d2e2ffd-7382-48aa-84e5-c5f4c9d2273e",
   "metadata": {},
   "outputs": [],
   "source": [
    "# Note that the above paths are not good because some of the directories start with an integer which python doesn't seem to like.\n",
    "# If you change the directories, it'll get you to the next error lol, but don't keep the folders that way, or it'll mess up your git history something fierc."
   ]
  }
 ],
 "metadata": {
  "kernelspec": {
   "display_name": "Python 3 (ipykernel)",
   "language": "python",
   "name": "python3"
  },
  "language_info": {
   "codemirror_mode": {
    "name": "ipython",
    "version": 3
   },
   "file_extension": ".py",
   "mimetype": "text/x-python",
   "name": "python",
   "nbconvert_exporter": "python",
   "pygments_lexer": "ipython3",
   "version": "3.12.8"
  }
 },
 "nbformat": 4,
 "nbformat_minor": 5
}
